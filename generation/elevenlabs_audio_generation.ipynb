{
 "cells": [
  {
   "cell_type": "code",
   "execution_count": 248,
   "id": "5fddfea8",
   "metadata": {},
   "outputs": [
    {
     "name": "stdout",
     "output_type": "stream",
     "text": [
      "Requirement already satisfied: dotenv in /Users/madisonfields/opt/anaconda3/lib/python3.9/site-packages (0.9.9)\n",
      "Requirement already satisfied: python-dotenv in /Users/madisonfields/opt/anaconda3/lib/python3.9/site-packages (from dotenv) (1.0.1)\n",
      "Requirement already satisfied: elevenlabs in /Users/madisonfields/opt/anaconda3/lib/python3.9/site-packages (1.54.0)\n",
      "Requirement already satisfied: httpx>=0.21.2 in /Users/madisonfields/opt/anaconda3/lib/python3.9/site-packages (from elevenlabs) (0.28.1)\n",
      "Requirement already satisfied: pydantic>=1.9.2 in /Users/madisonfields/opt/anaconda3/lib/python3.9/site-packages (from elevenlabs) (2.10.6)\n",
      "Requirement already satisfied: pydantic-core<3.0.0,>=2.18.2 in /Users/madisonfields/opt/anaconda3/lib/python3.9/site-packages (from elevenlabs) (2.27.2)\n",
      "Requirement already satisfied: requests>=2.20 in /Users/madisonfields/opt/anaconda3/lib/python3.9/site-packages (from elevenlabs) (2.28.1)\n",
      "Requirement already satisfied: typing_extensions>=4.0.0 in /Users/madisonfields/opt/anaconda3/lib/python3.9/site-packages (from elevenlabs) (4.12.2)\n",
      "Requirement already satisfied: websockets>=11.0 in /Users/madisonfields/opt/anaconda3/lib/python3.9/site-packages (from elevenlabs) (15.0.1)\n",
      "Requirement already satisfied: anyio in /Users/madisonfields/opt/anaconda3/lib/python3.9/site-packages (from httpx>=0.21.2->elevenlabs) (3.5.0)\n",
      "Requirement already satisfied: certifi in /Users/madisonfields/opt/anaconda3/lib/python3.9/site-packages (from httpx>=0.21.2->elevenlabs) (2022.9.24)\n",
      "Requirement already satisfied: httpcore==1.* in /Users/madisonfields/opt/anaconda3/lib/python3.9/site-packages (from httpx>=0.21.2->elevenlabs) (1.0.7)\n",
      "Requirement already satisfied: idna in /Users/madisonfields/opt/anaconda3/lib/python3.9/site-packages (from httpx>=0.21.2->elevenlabs) (3.3)\n",
      "Requirement already satisfied: h11<0.15,>=0.13 in /Users/madisonfields/opt/anaconda3/lib/python3.9/site-packages (from httpcore==1.*->httpx>=0.21.2->elevenlabs) (0.14.0)\n",
      "Requirement already satisfied: annotated-types>=0.6.0 in /Users/madisonfields/opt/anaconda3/lib/python3.9/site-packages (from pydantic>=1.9.2->elevenlabs) (0.7.0)\n",
      "Requirement already satisfied: charset-normalizer<3,>=2 in /Users/madisonfields/opt/anaconda3/lib/python3.9/site-packages (from requests>=2.20->elevenlabs) (2.0.4)\n",
      "Requirement already satisfied: urllib3<1.27,>=1.21.1 in /Users/madisonfields/opt/anaconda3/lib/python3.9/site-packages (from requests>=2.20->elevenlabs) (1.26.11)\n",
      "Requirement already satisfied: sniffio>=1.1 in /Users/madisonfields/opt/anaconda3/lib/python3.9/site-packages (from anyio->httpx>=0.21.2->elevenlabs) (1.2.0)\n"
     ]
    }
   ],
   "source": [
    "!pip install dotenv\n",
    "!pip install elevenlabs\n",
    "\n",
    "\n",
    "\n",
    "from dotenv import load_dotenv\n",
    "import os\n",
    "from elevenlabs.client import ElevenLabs\n",
    "from elevenlabs import play, save"
   ]
  },
  {
   "cell_type": "code",
   "execution_count": 249,
   "id": "397784da",
   "metadata": {},
   "outputs": [
    {
     "name": "stdout",
     "output_type": "stream",
     "text": [
      "Current directory: /Users/madisonfields/Desktop/TTS/Training/Western Europe/male\n"
     ]
    }
   ],
   "source": [
    "import os\n",
    "\n",
    "# Get the current working directory\n",
    "current_directory = os.getcwd()\n",
    "\n",
    "print(\"Current directory:\", current_directory)"
   ]
  },
  {
   "cell_type": "code",
   "execution_count": 304,
   "id": "22740e88",
   "metadata": {},
   "outputs": [
    {
     "name": "stdout",
     "output_type": "stream",
     "text": [
      "Current directory: /Users/madisonfields/Desktop/TTS/Training/Middle East/female\n"
     ]
    }
   ],
   "source": [
    "new_directory = '***/TTS/Training/Middle East/female'\n",
    "\n",
    "os.chdir(new_directory)\n",
    "\n",
    "# Verify the change\n",
    "print(\"Current directory:\", os.getcwd())"
   ]
  },
  {
   "cell_type": "code",
   "execution_count": 305,
   "id": "61ebbf11",
   "metadata": {},
   "outputs": [],
   "source": [
    "#Test Audio cell\n",
    "\n",
    "# audio = client.text_to_speech.convert(\n",
    "#     text=\"The first move is what sets everything in motion.\",\n",
    "#     voice_id=\"h2sm0NbeIZXHBzJOMYcQ\",\n",
    "#     model_id=\"eleven_multilingual_v2\",\n",
    "#     output_format=\"mp3_44100_128\",\n",
    "# )\n",
    "\n",
    "# save(audio, \"test.wav\")"
   ]
  },
  {
   "cell_type": "code",
   "execution_count": 308,
   "id": "145572b0",
   "metadata": {},
   "outputs": [
    {
     "name": "stdout",
     "output_type": "stream",
     "text": [
      "Saved: v_output_5427.mp3\n"
     ]
    }
   ],
   "source": [
    "import csv\n",
    "\n",
    "load_dotenv()\n",
    "\n",
    "#add API key here\n",
    "client = ElevenLabs(\n",
    "  api_key=\"***\",\n",
    ")\n",
    "\n",
    "\n",
    "\n",
    "def generate_audio(csv_filename, row_numbers, model_id = \"eleven_multilingual_v2\"):\n",
    "    with open(csv_filename, newline = '', encoding = 'utf-8') as csvfile:\n",
    "        reader = list(csv.reader(csvfile))\n",
    "        \n",
    "        for row_num in row_numbers:\n",
    "            if row_num < 1 or row_num > len(reader):\n",
    "                print(f\"Skipping invalid row {row_num}\")\n",
    "                continue\n",
    "                      \n",
    "            text = reader[row_num -1][0]\n",
    "        \n",
    "            if not text.strip():\n",
    "                print(f\"Skipping empty row {row_num}\")\n",
    "                continue\n",
    "            \n",
    "            output_filename = f\"v_output_{row_num}.mp3\"\n",
    "            \n",
    "        \n",
    "            \n",
    "            try:\n",
    "                audio = client.text_to_speech.convert(\n",
    "                    text=text,\n",
    "                    voice_id=\"tavIIPLplRB883FzWU0V\",\n",
    "                    model_id=model_id,\n",
    "                    output_format=\"mp3_44100_128\",\n",
    "                )\n",
    "                save(audio,output_filename)\n",
    "                print(f\"Saved: {output_filename}\")\n",
    "            \n",
    "            except Exception as e:\n",
    "                print(f\"Error generating audio for row {row_num}:{e}\")\n",
    "                \n",
    "                \n",
    "#Will need to feed in generated sentences csv or own csv below\n",
    "                \n",
    "generate_audio(\"***/metadata/generated_sentences.csv\", row_numbers = list(range(5427, 5428)))\n",
    "     \n",
    "        "
   ]
  },
  {
   "cell_type": "code",
   "execution_count": null,
   "id": "fdb6ae2f",
   "metadata": {},
   "outputs": [],
   "source": []
  },
  {
   "cell_type": "code",
   "execution_count": null,
   "id": "f0cfb964",
   "metadata": {},
   "outputs": [],
   "source": []
  }
 ],
 "metadata": {
  "kernelspec": {
   "display_name": "Python 3 (ipykernel)",
   "language": "python",
   "name": "python3"
  },
  "language_info": {
   "codemirror_mode": {
    "name": "ipython",
    "version": 3
   },
   "file_extension": ".py",
   "mimetype": "text/x-python",
   "name": "python",
   "nbconvert_exporter": "python",
   "pygments_lexer": "ipython3",
   "version": "3.9.13"
  }
 },
 "nbformat": 4,
 "nbformat_minor": 5
}
