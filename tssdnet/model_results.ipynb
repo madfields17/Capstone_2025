{
 "cells": [
  {
   "cell_type": "code",
   "execution_count": 1,
   "metadata": {
    "id": "hQYR95a5gnSk"
   },
   "outputs": [],
   "source": [
    "import matplotlib.pyplot as plt\n",
    "import seaborn as sns\n",
    "import numpy as np\n",
    "import pandas as pd\n",
    "import scipy.stats as stats"
   ]
  },
  {
   "cell_type": "markdown",
   "metadata": {
    "id": "pD3IdBUIlFCt"
   },
   "source": [
    "# Summary Metrics and Visualizations"
   ]
  },
  {
   "cell_type": "code",
   "execution_count": 2,
   "metadata": {},
   "outputs": [],
   "source": [
    "THRESHOLD = 0.5364887 # Best threshold from fine-tuning."
   ]
  },
  {
   "cell_type": "code",
   "execution_count": 3,
   "metadata": {},
   "outputs": [],
   "source": [
    "def clean_accent_name(accent):\n",
    "    accent = accent.split(\"(\")[0].strip()\n",
    "    accent = \" \".join([word.capitalize() for word in accent.split()])\n",
    "    accent = accent.replace(\"&\", \"and\")\n",
    "    if accent == \"Western Europe\":\n",
    "        return \"Western Europe and South America\" # Rename the Western Europe region to be more accurate. \n",
    "    if accent == \"Sub-saharan Africa\":\n",
    "        return \"Sub-Saharan Africa\"\n",
    "    return accent\n",
    "\n",
    "def clean_gender_name(gender):\n",
    "    return gender.split(\"_\")[0].capitalize()\n",
    "\n",
    "def preprocess_results(results_df):\n",
    "    results_df[\"region\"] = results_df[\"region\"].apply(clean_accent_name)\n",
    "    results_df[\"gender\"] = results_df[\"gender\"].apply(clean_gender_name)\n",
    "    results_df[\"predicted_spoof\"] = (results_df[\"spoof_score\"] > THRESHOLD).astype(int) # Or results[\"prediction_score\"].\n",
    "    results_df[\"actual_label\"] = 1\n",
    "    results_df[\"FP\"] = (results_df[\"predicted_spoof\"] == 1) & (results_df[\"actual_label\"] == 1)\n",
    "    results_df[\"TN\"] = (results_df[\"predicted_spoof\"] == 0) & (results_df[\"actual_label\"] == 1)\n",
    "    return results_df"
   ]
  },
  {
   "cell_type": "code",
   "execution_count": 4,
   "metadata": {},
   "outputs": [],
   "source": [
    "def compute_region_metrics(results_df, model_name):\n",
    "    region_metrics = results_df.groupby(\"region\").agg(\n",
    "        total_samples=(\"actual_label\", \"count\"),\n",
    "        false_positives=(\"FP\", \"sum\"),\n",
    "        true_negatives=(\"TN\", \"sum\")\n",
    "    )\n",
    "    region_metrics[\"FPR\"] = region_metrics[\"false_positives\"] / region_metrics[\"total_samples\"]\n",
    "    region_metrics[\"TNR\"] = region_metrics[\"true_negatives\"] / region_metrics[\"total_samples\"]\n",
    "    region_metrics = region_metrics.reset_index()\n",
    "    region_metrics[\"Model\"] = model_name\n",
    "    region_metrics = region_metrics.sort_values(by=\"region\", ascending=True)\n",
    "    return region_metrics\n",
    "\n",
    "def compute_gender_metrics(results_df, model_name):\n",
    "    gender_metrics = results_df.groupby(\"gender\").agg(\n",
    "        total_samples=(\"actual_label\", \"count\"),\n",
    "        false_positives=(\"FP\", \"sum\"),\n",
    "        true_negatives=(\"TN\", \"sum\")\n",
    "    )\n",
    "    gender_metrics[\"FPR\"] = gender_metrics[\"false_positives\"] / gender_metrics[\"total_samples\"]\n",
    "    gender_metrics[\"TNR\"] = gender_metrics[\"true_negatives\"] / gender_metrics[\"total_samples\"]\n",
    "    gender_metrics = gender_metrics.reset_index()\n",
    "    gender_metrics[\"Model\"] = model_name\n",
    "    gender_metrics = gender_metrics.sort_values(by=\"gender\", ascending=True)\n",
    "    return gender_metrics"
   ]
  },
  {
   "cell_type": "code",
   "execution_count": 5,
   "metadata": {},
   "outputs": [],
   "source": [
    "def compute_mean_average_deviation(fpr_df):\n",
    "    mean_value = fpr_df['FPR'].mean()\n",
    "    absolute_diffs = abs(fpr_df['FPR'] - mean_value)\n",
    "    return absolute_diffs.mean()"
   ]
  },
  {
   "cell_type": "code",
   "execution_count": 6,
   "metadata": {},
   "outputs": [],
   "source": [
    "tssd_baseline = pd.read_csv(\"baseline-model/final-results-tssd.csv\")\n",
    "tssd_baseline = preprocess_results(tssd_baseline)\n",
    "tssd_baseline = tssd_baseline[~tssd_baseline[\"region\"].isin([\"Caribbean\"])] # Exclude Caribbean from evaluation due to lack of training data from this region.\n",
    "\n",
    "tssd_finetune_2 = pd.read_csv(\"finetuned-model/final-results-tssd.csv\")\n",
    "tssd_finetune_2 = preprocess_results(tssd_finetune_2)\n",
    "tssd_finetune_2 = tssd_finetune_2[~tssd_finetune_2[\"region\"].isin([\"Caribbean\"])]"
   ]
  },
  {
   "cell_type": "markdown",
   "metadata": {},
   "source": [
    "### Accent Analysis"
   ]
  },
  {
   "cell_type": "code",
   "execution_count": 7,
   "metadata": {},
   "outputs": [],
   "source": [
    "region_metrics_baseline = compute_region_metrics(tssd_baseline, \"Baseline\")\n",
    "region_metrics_finetune = compute_region_metrics(tssd_finetune_2, \"Fine-tuned\")"
   ]
  },
  {
   "cell_type": "code",
   "execution_count": 8,
   "metadata": {},
   "outputs": [
    {
     "data": {
      "text/html": [
       "<div>\n",
       "<style scoped>\n",
       "    .dataframe tbody tr th:only-of-type {\n",
       "        vertical-align: middle;\n",
       "    }\n",
       "\n",
       "    .dataframe tbody tr th {\n",
       "        vertical-align: top;\n",
       "    }\n",
       "\n",
       "    .dataframe thead th {\n",
       "        text-align: right;\n",
       "    }\n",
       "</style>\n",
       "<table border=\"1\" class=\"dataframe\">\n",
       "  <thead>\n",
       "    <tr style=\"text-align: right;\">\n",
       "      <th></th>\n",
       "      <th>region</th>\n",
       "      <th>total_samples</th>\n",
       "      <th>false_positives</th>\n",
       "      <th>true_negatives</th>\n",
       "      <th>FPR</th>\n",
       "      <th>TNR</th>\n",
       "      <th>Model</th>\n",
       "    </tr>\n",
       "  </thead>\n",
       "  <tbody>\n",
       "    <tr>\n",
       "      <th>0</th>\n",
       "      <td>British Isles</td>\n",
       "      <td>100</td>\n",
       "      <td>97</td>\n",
       "      <td>3</td>\n",
       "      <td>0.970000</td>\n",
       "      <td>0.030000</td>\n",
       "      <td>Baseline</td>\n",
       "    </tr>\n",
       "    <tr>\n",
       "      <th>1</th>\n",
       "      <td>East Asia</td>\n",
       "      <td>100</td>\n",
       "      <td>92</td>\n",
       "      <td>8</td>\n",
       "      <td>0.920000</td>\n",
       "      <td>0.080000</td>\n",
       "      <td>Baseline</td>\n",
       "    </tr>\n",
       "    <tr>\n",
       "      <th>2</th>\n",
       "      <td>Middle East and Central Asia</td>\n",
       "      <td>92</td>\n",
       "      <td>82</td>\n",
       "      <td>10</td>\n",
       "      <td>0.891304</td>\n",
       "      <td>0.108696</td>\n",
       "      <td>Baseline</td>\n",
       "    </tr>\n",
       "    <tr>\n",
       "      <th>3</th>\n",
       "      <td>North America</td>\n",
       "      <td>100</td>\n",
       "      <td>97</td>\n",
       "      <td>3</td>\n",
       "      <td>0.970000</td>\n",
       "      <td>0.030000</td>\n",
       "      <td>Baseline</td>\n",
       "    </tr>\n",
       "    <tr>\n",
       "      <th>4</th>\n",
       "      <td>South Asia</td>\n",
       "      <td>100</td>\n",
       "      <td>98</td>\n",
       "      <td>2</td>\n",
       "      <td>0.980000</td>\n",
       "      <td>0.020000</td>\n",
       "      <td>Baseline</td>\n",
       "    </tr>\n",
       "    <tr>\n",
       "      <th>5</th>\n",
       "      <td>Southeast Asia</td>\n",
       "      <td>100</td>\n",
       "      <td>97</td>\n",
       "      <td>3</td>\n",
       "      <td>0.970000</td>\n",
       "      <td>0.030000</td>\n",
       "      <td>Baseline</td>\n",
       "    </tr>\n",
       "    <tr>\n",
       "      <th>6</th>\n",
       "      <td>Sub-Saharan Africa</td>\n",
       "      <td>100</td>\n",
       "      <td>93</td>\n",
       "      <td>7</td>\n",
       "      <td>0.930000</td>\n",
       "      <td>0.070000</td>\n",
       "      <td>Baseline</td>\n",
       "    </tr>\n",
       "    <tr>\n",
       "      <th>7</th>\n",
       "      <td>Western Europe and South America</td>\n",
       "      <td>100</td>\n",
       "      <td>87</td>\n",
       "      <td>13</td>\n",
       "      <td>0.870000</td>\n",
       "      <td>0.130000</td>\n",
       "      <td>Baseline</td>\n",
       "    </tr>\n",
       "  </tbody>\n",
       "</table>\n",
       "</div>"
      ],
      "text/plain": [
       "                             region  total_samples  false_positives  \\\n",
       "0                     British Isles            100               97   \n",
       "1                         East Asia            100               92   \n",
       "2      Middle East and Central Asia             92               82   \n",
       "3                     North America            100               97   \n",
       "4                        South Asia            100               98   \n",
       "5                    Southeast Asia            100               97   \n",
       "6                Sub-Saharan Africa            100               93   \n",
       "7  Western Europe and South America            100               87   \n",
       "\n",
       "   true_negatives       FPR       TNR     Model  \n",
       "0               3  0.970000  0.030000  Baseline  \n",
       "1               8  0.920000  0.080000  Baseline  \n",
       "2              10  0.891304  0.108696  Baseline  \n",
       "3               3  0.970000  0.030000  Baseline  \n",
       "4               2  0.980000  0.020000  Baseline  \n",
       "5               3  0.970000  0.030000  Baseline  \n",
       "6               7  0.930000  0.070000  Baseline  \n",
       "7              13  0.870000  0.130000  Baseline  "
      ]
     },
     "execution_count": 8,
     "metadata": {},
     "output_type": "execute_result"
    }
   ],
   "source": [
    "region_metrics_baseline"
   ]
  },
  {
   "cell_type": "code",
   "execution_count": 9,
   "metadata": {},
   "outputs": [
    {
     "name": "stdout",
     "output_type": "stream",
     "text": [
      "Average Absolute Difference from Mean: 0.03483695652173911\n"
     ]
    }
   ],
   "source": [
    "print(\"Average Absolute Difference from Mean:\", compute_mean_average_deviation(region_metrics_baseline))"
   ]
  },
  {
   "cell_type": "code",
   "execution_count": 10,
   "metadata": {},
   "outputs": [
    {
     "data": {
      "text/html": [
       "<div>\n",
       "<style scoped>\n",
       "    .dataframe tbody tr th:only-of-type {\n",
       "        vertical-align: middle;\n",
       "    }\n",
       "\n",
       "    .dataframe tbody tr th {\n",
       "        vertical-align: top;\n",
       "    }\n",
       "\n",
       "    .dataframe thead th {\n",
       "        text-align: right;\n",
       "    }\n",
       "</style>\n",
       "<table border=\"1\" class=\"dataframe\">\n",
       "  <thead>\n",
       "    <tr style=\"text-align: right;\">\n",
       "      <th></th>\n",
       "      <th>region</th>\n",
       "      <th>total_samples</th>\n",
       "      <th>false_positives</th>\n",
       "      <th>true_negatives</th>\n",
       "      <th>FPR</th>\n",
       "      <th>TNR</th>\n",
       "      <th>Model</th>\n",
       "    </tr>\n",
       "  </thead>\n",
       "  <tbody>\n",
       "    <tr>\n",
       "      <th>0</th>\n",
       "      <td>British Isles</td>\n",
       "      <td>100</td>\n",
       "      <td>37</td>\n",
       "      <td>63</td>\n",
       "      <td>0.370000</td>\n",
       "      <td>0.630000</td>\n",
       "      <td>Fine-tuned</td>\n",
       "    </tr>\n",
       "    <tr>\n",
       "      <th>1</th>\n",
       "      <td>East Asia</td>\n",
       "      <td>100</td>\n",
       "      <td>10</td>\n",
       "      <td>90</td>\n",
       "      <td>0.100000</td>\n",
       "      <td>0.900000</td>\n",
       "      <td>Fine-tuned</td>\n",
       "    </tr>\n",
       "    <tr>\n",
       "      <th>2</th>\n",
       "      <td>Middle East and Central Asia</td>\n",
       "      <td>92</td>\n",
       "      <td>10</td>\n",
       "      <td>82</td>\n",
       "      <td>0.108696</td>\n",
       "      <td>0.891304</td>\n",
       "      <td>Fine-tuned</td>\n",
       "    </tr>\n",
       "    <tr>\n",
       "      <th>3</th>\n",
       "      <td>North America</td>\n",
       "      <td>100</td>\n",
       "      <td>48</td>\n",
       "      <td>52</td>\n",
       "      <td>0.480000</td>\n",
       "      <td>0.520000</td>\n",
       "      <td>Fine-tuned</td>\n",
       "    </tr>\n",
       "    <tr>\n",
       "      <th>4</th>\n",
       "      <td>South Asia</td>\n",
       "      <td>100</td>\n",
       "      <td>46</td>\n",
       "      <td>54</td>\n",
       "      <td>0.460000</td>\n",
       "      <td>0.540000</td>\n",
       "      <td>Fine-tuned</td>\n",
       "    </tr>\n",
       "    <tr>\n",
       "      <th>5</th>\n",
       "      <td>Southeast Asia</td>\n",
       "      <td>100</td>\n",
       "      <td>34</td>\n",
       "      <td>66</td>\n",
       "      <td>0.340000</td>\n",
       "      <td>0.660000</td>\n",
       "      <td>Fine-tuned</td>\n",
       "    </tr>\n",
       "    <tr>\n",
       "      <th>6</th>\n",
       "      <td>Sub-Saharan Africa</td>\n",
       "      <td>100</td>\n",
       "      <td>39</td>\n",
       "      <td>61</td>\n",
       "      <td>0.390000</td>\n",
       "      <td>0.610000</td>\n",
       "      <td>Fine-tuned</td>\n",
       "    </tr>\n",
       "    <tr>\n",
       "      <th>7</th>\n",
       "      <td>Western Europe and South America</td>\n",
       "      <td>100</td>\n",
       "      <td>23</td>\n",
       "      <td>77</td>\n",
       "      <td>0.230000</td>\n",
       "      <td>0.770000</td>\n",
       "      <td>Fine-tuned</td>\n",
       "    </tr>\n",
       "  </tbody>\n",
       "</table>\n",
       "</div>"
      ],
      "text/plain": [
       "                             region  total_samples  false_positives  \\\n",
       "0                     British Isles            100               37   \n",
       "1                         East Asia            100               10   \n",
       "2      Middle East and Central Asia             92               10   \n",
       "3                     North America            100               48   \n",
       "4                        South Asia            100               46   \n",
       "5                    Southeast Asia            100               34   \n",
       "6                Sub-Saharan Africa            100               39   \n",
       "7  Western Europe and South America            100               23   \n",
       "\n",
       "   true_negatives       FPR       TNR       Model  \n",
       "0              63  0.370000  0.630000  Fine-tuned  \n",
       "1              90  0.100000  0.900000  Fine-tuned  \n",
       "2              82  0.108696  0.891304  Fine-tuned  \n",
       "3              52  0.480000  0.520000  Fine-tuned  \n",
       "4              54  0.460000  0.540000  Fine-tuned  \n",
       "5              66  0.340000  0.660000  Fine-tuned  \n",
       "6              61  0.390000  0.610000  Fine-tuned  \n",
       "7              77  0.230000  0.770000  Fine-tuned  "
      ]
     },
     "execution_count": 10,
     "metadata": {},
     "output_type": "execute_result"
    }
   ],
   "source": [
    "region_metrics_finetune"
   ]
  },
  {
   "cell_type": "code",
   "execution_count": 11,
   "metadata": {},
   "outputs": [
    {
     "name": "stdout",
     "output_type": "stream",
     "text": [
      "Average Absolute Difference from Mean: 0.12270380434782609\n"
     ]
    }
   ],
   "source": [
    "print(\"Average Absolute Difference from Mean:\", compute_mean_average_deviation(region_metrics_finetune))"
   ]
  },
  {
   "cell_type": "code",
   "execution_count": 12,
   "metadata": {},
   "outputs": [],
   "source": [
    "region_metrics_combined = pd.concat(\n",
    "    [region_metrics_baseline, region_metrics_finetune],\n",
    "    ignore_index=True\n",
    ")"
   ]
  },
  {
   "cell_type": "code",
   "execution_count": 13,
   "metadata": {},
   "outputs": [],
   "source": [
    "def compute_confidence_interval(proportion, total, confidence=0.95):\n",
    "    \"\"\"Compute the confidence interval for a proportion using the Wilson Score Interval.\"\"\"\n",
    "    if total == 0:\n",
    "        return (0, 0)\n",
    "    z = stats.norm.ppf((1 + confidence) / 2)\n",
    "    p = proportion\n",
    "    n = total\n",
    "    center = (p + (z**2) / (2 * n)) / (1 + (z**2) / n)\n",
    "    margin = (z * np.sqrt((p * (1 - p) / n) + (z**2) / (4 * n**2))) / (1 + (z**2) / n)\n",
    "    return center - margin, center + margin\n",
    "\n",
    "def apply_confidence_intervals(df):\n",
    "    \"\"\"Apply CI computation to both the FPR and TNR.\"\"\"\n",
    "    df[\"FPR_CI_Lower\"], df[\"FPR_CI_Upper\"] = zip(*df.apply(\n",
    "        lambda row: compute_confidence_interval(row[\"FPR\"], row[\"total_samples\"]),\n",
    "        axis=1\n",
    "    ))\n",
    "    df[\"TNR_CI_Lower\"], df[\"TNR_CI_Upper\"] = zip(*df.apply(\n",
    "        lambda row: compute_confidence_interval(row[\"TNR\"], row[\"total_samples\"]),\n",
    "        axis=1\n",
    "    ))\n",
    "    return df\n",
    "\n",
    "# Apply confidence interval calculation to both models:\n",
    "all_region_metrics = [region_metrics_baseline, region_metrics_finetune]\n",
    "for i, df in enumerate(all_region_metrics):\n",
    "    all_region_metrics[i] = apply_confidence_intervals(df)\n",
    "region_metrics_baseline, region_metrics_finetune = all_region_metrics\n",
    "\n",
    "# Combine both models into a single DataFrame:\n",
    "combined_fpr = pd.concat([\n",
    "    region_metrics_baseline[[\"region\", \"FPR\", \"FPR_CI_Lower\", \"FPR_CI_Upper\", \"Model\"]],\n",
    "    region_metrics_finetune[[\"region\", \"FPR\", \"FPR_CI_Lower\", \"FPR_CI_Upper\", \"Model\"]]\n",
    "], ignore_index=True)\n",
    "combined_tnr = pd.concat([\n",
    "    region_metrics_baseline[[\"region\", \"TNR\", \"TNR_CI_Lower\", \"TNR_CI_Upper\", \"Model\"]],\n",
    "    region_metrics_finetune[[\"region\", \"TNR\", \"TNR_CI_Lower\", \"TNR_CI_Upper\", \"Model\"]]\n",
    "], ignore_index=True)"
   ]
  },
  {
   "cell_type": "code",
   "execution_count": 14,
   "metadata": {},
   "outputs": [
    {
     "data": {
      "image/png": "[encoded data removed]",
      "text/plain": [
       "<Figure size 1400x600 with 2 Axes>"
      ]
     },
     "metadata": {},
     "output_type": "display_data"
    }
   ],
   "source": [
    "fig, axes = plt.subplots(1, 2, figsize=(14, 6), sharey=True)\n",
    "\n",
    "# Custom palette to match our presentation:\n",
    "# model_colors = {\n",
    "#     \"Baseline\": \"#3a9593\", \n",
    "#     \"Fine-tuned\": \"#d9534f\"\n",
    "# }\n",
    "\n",
    "# Custom palette to match our website:\n",
    "model_colors = {\n",
    "    \"Baseline\": \"#3a3f5f\", \n",
    "    \"Fine-tuned\": \"#aa7b4f\"\n",
    "}\n",
    "\n",
    "# Get list of regions for axis labels:\n",
    "regions = sorted(combined_fpr[\"region\"].unique())\n",
    "region_to_index = {region: idx for idx, region in enumerate(regions)}\n",
    "\n",
    "# Plot baseline results on left: \n",
    "model = \"Baseline\"\n",
    "subset = combined_fpr[combined_fpr[\"Model\"] == model]\n",
    "x_positions = [region_to_index[r] for r in subset[\"region\"]]\n",
    "y = subset[\"FPR\"]\n",
    "yerr_lower = (y - subset[\"FPR_CI_Lower\"]).clip(lower=0)\n",
    "yerr_upper = (subset[\"FPR_CI_Upper\"] - y).clip(lower=0)\n",
    "axes[0].errorbar(x_positions, y, \n",
    "                 yerr=[yerr_lower, yerr_upper],\n",
    "                 fmt=\"o\", color=model_colors[model], capsize=4, label=model)\n",
    "axes[0].set_title(\"Baseline Model\")\n",
    "axes[0].set_ylabel(\"False Positive Rate (FPR)\")\n",
    "axes[0].set_ylim(0, 1)\n",
    "\n",
    "# Plot fine-tuned results on right:\n",
    "model = \"Fine-tuned\"\n",
    "subset = combined_fpr[combined_fpr[\"Model\"] == model]\n",
    "x_positions = [region_to_index[r] for r in subset[\"region\"]]\n",
    "y = subset[\"FPR\"]\n",
    "yerr_lower = (y - subset[\"FPR_CI_Lower\"]).clip(lower=0)\n",
    "yerr_upper = (subset[\"FPR_CI_Upper\"] - y).clip(lower=0)\n",
    "axes[1].errorbar(x_positions, y, \n",
    "                 yerr=[yerr_lower, yerr_upper],\n",
    "                 fmt=\"o\", color=model_colors[model], capsize=4, label=model)\n",
    "axes[1].set_title(\"Fine-Tuned Model\")\n",
    "axes[1].set_ylim(0, 1)\n",
    "\n",
    "# Set shared x-axis labels:\n",
    "for ax in axes:\n",
    "    ax.set_xticks(np.arange(len(regions)))\n",
    "    ax.set_xticklabels(regions, rotation=45, ha=\"right\")\n",
    "\n",
    "plt.tight_layout()\n",
    "plt.show()"
   ]
  },
  {
   "cell_type": "markdown",
   "metadata": {},
   "source": [
    "### Gender Metrics"
   ]
  },
  {
   "cell_type": "code",
   "execution_count": 15,
   "metadata": {},
   "outputs": [],
   "source": [
    "gender_metrics_baseline = compute_gender_metrics(tssd_baseline, \"Baseline\")\n",
    "gender_metrics_finetune = compute_gender_metrics(tssd_finetune_2, \"Fine-tuned\")"
   ]
  },
  {
   "cell_type": "code",
   "execution_count": 16,
   "metadata": {},
   "outputs": [
    {
     "data": {
      "text/html": [
       "<div>\n",
       "<style scoped>\n",
       "    .dataframe tbody tr th:only-of-type {\n",
       "        vertical-align: middle;\n",
       "    }\n",
       "\n",
       "    .dataframe tbody tr th {\n",
       "        vertical-align: top;\n",
       "    }\n",
       "\n",
       "    .dataframe thead th {\n",
       "        text-align: right;\n",
       "    }\n",
       "</style>\n",
       "<table border=\"1\" class=\"dataframe\">\n",
       "  <thead>\n",
       "    <tr style=\"text-align: right;\">\n",
       "      <th></th>\n",
       "      <th>gender</th>\n",
       "      <th>total_samples</th>\n",
       "      <th>false_positives</th>\n",
       "      <th>true_negatives</th>\n",
       "      <th>FPR</th>\n",
       "      <th>TNR</th>\n",
       "      <th>Model</th>\n",
       "    </tr>\n",
       "  </thead>\n",
       "  <tbody>\n",
       "    <tr>\n",
       "      <th>0</th>\n",
       "      <td>Female</td>\n",
       "      <td>396</td>\n",
       "      <td>359</td>\n",
       "      <td>37</td>\n",
       "      <td>0.906566</td>\n",
       "      <td>0.093434</td>\n",
       "      <td>Baseline</td>\n",
       "    </tr>\n",
       "    <tr>\n",
       "      <th>1</th>\n",
       "      <td>Male</td>\n",
       "      <td>396</td>\n",
       "      <td>384</td>\n",
       "      <td>12</td>\n",
       "      <td>0.969697</td>\n",
       "      <td>0.030303</td>\n",
       "      <td>Baseline</td>\n",
       "    </tr>\n",
       "  </tbody>\n",
       "</table>\n",
       "</div>"
      ],
      "text/plain": [
       "   gender  total_samples  false_positives  true_negatives       FPR       TNR  \\\n",
       "0  Female            396              359              37  0.906566  0.093434   \n",
       "1    Male            396              384              12  0.969697  0.030303   \n",
       "\n",
       "      Model  \n",
       "0  Baseline  \n",
       "1  Baseline  "
      ]
     },
     "execution_count": 16,
     "metadata": {},
     "output_type": "execute_result"
    }
   ],
   "source": [
    "gender_metrics_baseline"
   ]
  },
  {
   "cell_type": "code",
   "execution_count": 17,
   "metadata": {},
   "outputs": [
    {
     "name": "stdout",
     "output_type": "stream",
     "text": [
      "Average Absolute Difference from Mean: 0.031565656565656575\n"
     ]
    }
   ],
   "source": [
    "print(\"Average Absolute Difference from Mean:\", compute_mean_average_deviation(gender_metrics_baseline))"
   ]
  },
  {
   "cell_type": "code",
   "execution_count": 18,
   "metadata": {},
   "outputs": [
    {
     "data": {
      "text/html": [
       "<div>\n",
       "<style scoped>\n",
       "    .dataframe tbody tr th:only-of-type {\n",
       "        vertical-align: middle;\n",
       "    }\n",
       "\n",
       "    .dataframe tbody tr th {\n",
       "        vertical-align: top;\n",
       "    }\n",
       "\n",
       "    .dataframe thead th {\n",
       "        text-align: right;\n",
       "    }\n",
       "</style>\n",
       "<table border=\"1\" class=\"dataframe\">\n",
       "  <thead>\n",
       "    <tr style=\"text-align: right;\">\n",
       "      <th></th>\n",
       "      <th>gender</th>\n",
       "      <th>total_samples</th>\n",
       "      <th>false_positives</th>\n",
       "      <th>true_negatives</th>\n",
       "      <th>FPR</th>\n",
       "      <th>TNR</th>\n",
       "      <th>Model</th>\n",
       "    </tr>\n",
       "  </thead>\n",
       "  <tbody>\n",
       "    <tr>\n",
       "      <th>0</th>\n",
       "      <td>Female</td>\n",
       "      <td>396</td>\n",
       "      <td>125</td>\n",
       "      <td>271</td>\n",
       "      <td>0.315657</td>\n",
       "      <td>0.684343</td>\n",
       "      <td>Fine-tuned</td>\n",
       "    </tr>\n",
       "    <tr>\n",
       "      <th>1</th>\n",
       "      <td>Male</td>\n",
       "      <td>396</td>\n",
       "      <td>122</td>\n",
       "      <td>274</td>\n",
       "      <td>0.308081</td>\n",
       "      <td>0.691919</td>\n",
       "      <td>Fine-tuned</td>\n",
       "    </tr>\n",
       "  </tbody>\n",
       "</table>\n",
       "</div>"
      ],
      "text/plain": [
       "   gender  total_samples  false_positives  true_negatives       FPR       TNR  \\\n",
       "0  Female            396              125             271  0.315657  0.684343   \n",
       "1    Male            396              122             274  0.308081  0.691919   \n",
       "\n",
       "        Model  \n",
       "0  Fine-tuned  \n",
       "1  Fine-tuned  "
      ]
     },
     "execution_count": 18,
     "metadata": {},
     "output_type": "execute_result"
    }
   ],
   "source": [
    "gender_metrics_finetune"
   ]
  },
  {
   "cell_type": "code",
   "execution_count": 19,
   "metadata": {},
   "outputs": [
    {
     "name": "stdout",
     "output_type": "stream",
     "text": [
      "Average Absolute Difference from Mean: 0.0037878787878787845\n"
     ]
    }
   ],
   "source": [
    "print(\"Average Absolute Difference from Mean:\", compute_mean_average_deviation(gender_metrics_finetune))"
   ]
  },
  {
   "cell_type": "code",
   "execution_count": 20,
   "metadata": {},
   "outputs": [],
   "source": [
    "gender_metrics_combined = pd.concat(\n",
    "    [gender_metrics_baseline, gender_metrics_finetune],\n",
    "    ignore_index=True\n",
    ")"
   ]
  },
  {
   "cell_type": "code",
   "execution_count": 21,
   "metadata": {},
   "outputs": [],
   "source": [
    "# Apply confidence interval calculation to both models:\n",
    "all_gender_metrics = [gender_metrics_baseline, gender_metrics_finetune]\n",
    "for i, df in enumerate(all_gender_metrics):\n",
    "    all_region_metrics[i] = apply_confidence_intervals(df)\n",
    "gender_metrics_baseline, gender_metrics_finetune = all_region_metrics\n",
    "\n",
    "# Combine both models into a single DataFrame:\n",
    "combined_fpr = pd.concat([\n",
    "    gender_metrics_baseline[[\"gender\", \"FPR\", \"FPR_CI_Lower\", \"FPR_CI_Upper\", \"Model\"]],\n",
    "    gender_metrics_finetune[[\"gender\", \"FPR\", \"FPR_CI_Lower\", \"FPR_CI_Upper\", \"Model\"]]\n",
    "], ignore_index=True)\n",
    "combined_tnr = pd.concat([\n",
    "    gender_metrics_baseline[[\"gender\", \"TNR\", \"TNR_CI_Lower\", \"TNR_CI_Upper\", \"Model\"]],\n",
    "    gender_metrics_finetune[[\"gender\", \"TNR\", \"TNR_CI_Lower\", \"TNR_CI_Upper\", \"Model\"]]\n",
    "], ignore_index=True)"
   ]
  },
  {
   "cell_type": "code",
   "execution_count": 22,
   "metadata": {},
   "outputs": [
    {
     "data": {
      "image/png": "[encoded data removed]",
      "text/plain": [
       "<Figure size 1400x600 with 2 Axes>"
      ]
     },
     "metadata": {},
     "output_type": "display_data"
    }
   ],
   "source": [
    "fig, axes = plt.subplots(1, 2, figsize=(14, 6), sharey=True)\n",
    "\n",
    "# Custom palette to match our presentation:\n",
    "# model_colors = {\n",
    "#     \"Baseline\": \"#3a9593\", \n",
    "#     \"Fine-tuned\": \"#d9534f\"\n",
    "# }\n",
    "\n",
    "# Custom palette to match our website:\n",
    "model_colors = {\n",
    "    \"Baseline\": \"#3a3f5f\", \n",
    "    \"Fine-tuned\": \"#aa7b4f\"\n",
    "}\n",
    "\n",
    "# Get list of regions for axis labels:\n",
    "genders = sorted(combined_fpr[\"gender\"].unique())\n",
    "gender_to_index = {gender: idx for idx, gender in enumerate(genders)}\n",
    "\n",
    "# Plot baseline results on left: \n",
    "model = \"Baseline\"\n",
    "subset = combined_fpr[combined_fpr[\"Model\"] == model]\n",
    "x_positions = [gender_to_index[g] for g in subset[\"gender\"]]\n",
    "y = subset[\"FPR\"]\n",
    "yerr_lower = (y - subset[\"FPR_CI_Lower\"]).clip(lower=0)\n",
    "yerr_upper = (subset[\"FPR_CI_Upper\"] - y).clip(lower=0)\n",
    "axes[0].errorbar(x_positions, y, \n",
    "                 yerr=[yerr_lower, yerr_upper],\n",
    "                 fmt=\"o\", color=model_colors[model], capsize=4, label=model)\n",
    "axes[0].set_title(\"Baseline Model\")\n",
    "axes[0].set_ylabel(\"False Positive Rate (FPR)\")\n",
    "axes[0].set_ylim(0, 1)\n",
    "\n",
    "# Plot fine-tuned results on right:\n",
    "model = \"Fine-tuned\"\n",
    "subset = combined_fpr[combined_fpr[\"Model\"] == model]\n",
    "x_positions = [gender_to_index[g] for g in subset[\"gender\"]]\n",
    "y = subset[\"FPR\"]\n",
    "yerr_lower = (y - subset[\"FPR_CI_Lower\"]).clip(lower=0)\n",
    "yerr_upper = (subset[\"FPR_CI_Upper\"] - y).clip(lower=0)\n",
    "axes[1].errorbar(x_positions, y, \n",
    "                 yerr=[yerr_lower, yerr_upper],\n",
    "                 fmt=\"o\", color=model_colors[model], capsize=4, label=model)\n",
    "axes[1].set_title(\"Fine-Tuned Model\")\n",
    "axes[1].set_ylim(0, 1)\n",
    "\n",
    "# Set shared x-axis labels:\n",
    "for ax in axes:\n",
    "    ax.set_xticks(np.arange(len(genders)))\n",
    "    ax.set_xticklabels(genders, rotation=45, ha=\"right\")\n",
    "\n",
    "plt.tight_layout()\n",
    "plt.show()"
   ]
  },
  {
   "cell_type": "code",
   "execution_count": null,
   "metadata": {},
   "outputs": [],
   "source": []
  }
 ],
 "metadata": {
  "colab": {
   "provenance": []
  },
  "kernelspec": {
   "display_name": "Python 3 (ipykernel)",
   "language": "python",
   "name": "python3"
  },
  "language_info": {
   "codemirror_mode": {
    "name": "ipython",
    "version": 3
   },
   "file_extension": ".py",
   "mimetype": "text/x-python",
   "name": "python",
   "nbconvert_exporter": "python",
   "pygments_lexer": "ipython3",
   "version": "3.9.6"
  }
 },
 "nbformat": 4,
 "nbformat_minor": 4
}
