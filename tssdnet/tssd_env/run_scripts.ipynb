{
 "cells": [
  {
   "cell_type": "code",
   "execution_count": 4,
   "id": "4ee10df3-bf68-4f94-a440-36942a002326",
   "metadata": {},
   "outputs": [],
   "source": [
    "# !pip install torch torchaudio"
   ]
  },
  {
   "cell_type": "code",
   "execution_count": 1,
   "id": "7c4039f3-6587-40f1-962d-edc59b4f3df0",
   "metadata": {},
   "outputs": [
    {
     "name": "stdout",
     "output_type": "stream",
     "text": [
      "res_tssdnet_model model loaded: SSDNet1D(\n",
      "  (conv1): Conv1d(1, 16, kernel_size=(7,), stride=(1,), padding=(3,), bias=False)\n",
      "  (bn1): BatchNorm1d(16, eps=1e-05, momentum=0.1, affine=True, track_running_stats=True)\n",
      "  (RSM1): RSM1D(\n",
      "    (conv1): Conv1d(16, 32, kernel_size=(3,), stride=(1,), padding=(1,), bias=False)\n",
      "    (conv2): Conv1d(32, 32, kernel_size=(3,), stride=(1,), padding=(1,), bias=False)\n",
      "    (conv3): Conv1d(32, 32, kernel_size=(3,), stride=(1,), padding=(1,), bias=False)\n",
      "    (bn1): BatchNorm1d(32, eps=1e-05, momentum=0.1, affine=True, track_running_stats=True)\n",
      "    (bn2): BatchNorm1d(32, eps=1e-05, momentum=0.1, affine=True, track_running_stats=True)\n",
      "    (bn3): BatchNorm1d(32, eps=1e-05, momentum=0.1, affine=True, track_running_stats=True)\n",
      "    (nin): Conv1d(16, 32, kernel_size=(1,), stride=(1,), bias=False)\n",
      "  )\n",
      "  (RSM2): RSM1D(\n",
      "    (conv1): Conv1d(32, 64, kernel_size=(3,), stride=(1,), padding=(1,), bias=False)\n",
      "    (conv2): Conv1d(64, 64, kernel_size=(3,), stride=(1,), padding=(1,), bias=False)\n",
      "    (conv3): Conv1d(64, 64, kernel_size=(3,), stride=(1,), padding=(1,), bias=False)\n",
      "    (bn1): BatchNorm1d(64, eps=1e-05, momentum=0.1, affine=True, track_running_stats=True)\n",
      "    (bn2): BatchNorm1d(64, eps=1e-05, momentum=0.1, affine=True, track_running_stats=True)\n",
      "    (bn3): BatchNorm1d(64, eps=1e-05, momentum=0.1, affine=True, track_running_stats=True)\n",
      "    (nin): Conv1d(32, 64, kernel_size=(1,), stride=(1,), bias=False)\n",
      "  )\n",
      "  (RSM3): RSM1D(\n",
      "    (conv1): Conv1d(64, 128, kernel_size=(3,), stride=(1,), padding=(1,), bias=False)\n",
      "    (conv2): Conv1d(128, 128, kernel_size=(3,), stride=(1,), padding=(1,), bias=False)\n",
      "    (conv3): Conv1d(128, 128, kernel_size=(3,), stride=(1,), padding=(1,), bias=False)\n",
      "    (bn1): BatchNorm1d(128, eps=1e-05, momentum=0.1, affine=True, track_running_stats=True)\n",
      "    (bn2): BatchNorm1d(128, eps=1e-05, momentum=0.1, affine=True, track_running_stats=True)\n",
      "    (bn3): BatchNorm1d(128, eps=1e-05, momentum=0.1, affine=True, track_running_stats=True)\n",
      "    (nin): Conv1d(64, 128, kernel_size=(1,), stride=(1,), bias=False)\n",
      "  )\n",
      "  (RSM4): RSM1D(\n",
      "    (conv1): Conv1d(128, 128, kernel_size=(3,), stride=(1,), padding=(1,), bias=False)\n",
      "    (conv2): Conv1d(128, 128, kernel_size=(3,), stride=(1,), padding=(1,), bias=False)\n",
      "    (conv3): Conv1d(128, 128, kernel_size=(3,), stride=(1,), padding=(1,), bias=False)\n",
      "    (bn1): BatchNorm1d(128, eps=1e-05, momentum=0.1, affine=True, track_running_stats=True)\n",
      "    (bn2): BatchNorm1d(128, eps=1e-05, momentum=0.1, affine=True, track_running_stats=True)\n",
      "    (bn3): BatchNorm1d(128, eps=1e-05, momentum=0.1, affine=True, track_running_stats=True)\n",
      "    (nin): Conv1d(128, 128, kernel_size=(1,), stride=(1,), bias=False)\n",
      "  )\n",
      "  (fc1): Linear(in_features=128, out_features=64, bias=True)\n",
      "  (fc2): Linear(in_features=64, out_features=32, bias=True)\n",
      "  (out): Linear(in_features=32, out_features=2, bias=True)\n",
      ")\n"
     ]
    },
    {
     "name": "stderr",
     "output_type": "stream",
     "text": [
      "Processing Audio Files:   0%|                                                                                                           | 0/56 [00:00<?, ?it/s]/Users/trishasanghal/Documents/MIDS/capstone/Capstone_2025/tssdnet/tssd_env/test_tssdnet_baseline.py:47: UserWarning: To copy construct from a tensor, it is recommended to use sourceTensor.clone().detach() or sourceTensor.clone().detach().requires_grad_(True), rather than torch.tensor(sourceTensor).\n",
      "  waveforms = [torch.tensor(waveform, dtype=torch.float32) for waveform in waveforms]\n",
      "Processing Audio Files: 100%|██████████████████████████████████████████████████████████████████████████████████████████████████| 56/56 [03:53<00:00,  4.17s/it]"
     ]
    },
    {
     "name": "stdout",
     "output_type": "stream",
     "text": [
      "Predictions saved to ../baseline-updated-results/tssd-evaluation-results.csv\n",
      "✅ Merged results saved to ../baseline-updated-results/final-results-tssd.csv\n"
     ]
    },
    {
     "name": "stderr",
     "output_type": "stream",
     "text": [
      "\n"
     ]
    }
   ],
   "source": [
    "# Run evaluation on baseline TSSDNet model:\n",
    "%run test_tssdnet_baseline.py"
   ]
  },
  {
   "cell_type": "code",
   "execution_count": null,
   "id": "9b38b59e-9c18-4d4f-a2c4-b722c22e851c",
   "metadata": {},
   "outputs": [
    {
     "name": "stdout",
     "output_type": "stream",
     "text": [
      "res_tssdnet_model model loaded: SSDNet1D(\n",
      "  (conv1): Conv1d(1, 16, kernel_size=(7,), stride=(1,), padding=(3,), bias=False)\n",
      "  (bn1): BatchNorm1d(16, eps=1e-05, momentum=0.1, affine=True, track_running_stats=True)\n",
      "  (RSM1): RSM1D(\n",
      "    (conv1): Conv1d(16, 32, kernel_size=(3,), stride=(1,), padding=(1,), bias=False)\n",
      "    (conv2): Conv1d(32, 32, kernel_size=(3,), stride=(1,), padding=(1,), bias=False)\n",
      "    (conv3): Conv1d(32, 32, kernel_size=(3,), stride=(1,), padding=(1,), bias=False)\n",
      "    (bn1): BatchNorm1d(32, eps=1e-05, momentum=0.1, affine=True, track_running_stats=True)\n",
      "    (bn2): BatchNorm1d(32, eps=1e-05, momentum=0.1, affine=True, track_running_stats=True)\n",
      "    (bn3): BatchNorm1d(32, eps=1e-05, momentum=0.1, affine=True, track_running_stats=True)\n",
      "    (nin): Conv1d(16, 32, kernel_size=(1,), stride=(1,), bias=False)\n",
      "  )\n",
      "  (RSM2): RSM1D(\n",
      "    (conv1): Conv1d(32, 64, kernel_size=(3,), stride=(1,), padding=(1,), bias=False)\n",
      "    (conv2): Conv1d(64, 64, kernel_size=(3,), stride=(1,), padding=(1,), bias=False)\n",
      "    (conv3): Conv1d(64, 64, kernel_size=(3,), stride=(1,), padding=(1,), bias=False)\n",
      "    (bn1): BatchNorm1d(64, eps=1e-05, momentum=0.1, affine=True, track_running_stats=True)\n",
      "    (bn2): BatchNorm1d(64, eps=1e-05, momentum=0.1, affine=True, track_running_stats=True)\n",
      "    (bn3): BatchNorm1d(64, eps=1e-05, momentum=0.1, affine=True, track_running_stats=True)\n",
      "    (nin): Conv1d(32, 64, kernel_size=(1,), stride=(1,), bias=False)\n",
      "  )\n",
      "  (RSM3): RSM1D(\n",
      "    (conv1): Conv1d(64, 128, kernel_size=(3,), stride=(1,), padding=(1,), bias=False)\n",
      "    (conv2): Conv1d(128, 128, kernel_size=(3,), stride=(1,), padding=(1,), bias=False)\n",
      "    (conv3): Conv1d(128, 128, kernel_size=(3,), stride=(1,), padding=(1,), bias=False)\n",
      "    (bn1): BatchNorm1d(128, eps=1e-05, momentum=0.1, affine=True, track_running_stats=True)\n",
      "    (bn2): BatchNorm1d(128, eps=1e-05, momentum=0.1, affine=True, track_running_stats=True)\n",
      "    (bn3): BatchNorm1d(128, eps=1e-05, momentum=0.1, affine=True, track_running_stats=True)\n",
      "    (nin): Conv1d(64, 128, kernel_size=(1,), stride=(1,), bias=False)\n",
      "  )\n",
      "  (RSM4): RSM1D(\n",
      "    (conv1): Conv1d(128, 128, kernel_size=(3,), stride=(1,), padding=(1,), bias=False)\n",
      "    (conv2): Conv1d(128, 128, kernel_size=(3,), stride=(1,), padding=(1,), bias=False)\n",
      "    (conv3): Conv1d(128, 128, kernel_size=(3,), stride=(1,), padding=(1,), bias=False)\n",
      "    (bn1): BatchNorm1d(128, eps=1e-05, momentum=0.1, affine=True, track_running_stats=True)\n",
      "    (bn2): BatchNorm1d(128, eps=1e-05, momentum=0.1, affine=True, track_running_stats=True)\n",
      "    (bn3): BatchNorm1d(128, eps=1e-05, momentum=0.1, affine=True, track_running_stats=True)\n",
      "    (nin): Conv1d(128, 128, kernel_size=(1,), stride=(1,), bias=False)\n",
      "  )\n",
      "  (fc1): Linear(in_features=128, out_features=64, bias=True)\n",
      "  (fc2): Linear(in_features=64, out_features=32, bias=True)\n",
      "  (out): Linear(in_features=32, out_features=2, bias=True)\n",
      ")\n"
     ]
    },
    {
     "name": "stderr",
     "output_type": "stream",
     "text": [
      "[Epoch 1] Training:   0%|                                                                               | 0/437 [00:00<?, ?it/s]/Users/trishasanghal/Documents/MIDS/capstone/Capstone_2025/tssdnet/tssd_env/train_tssdnet_finetuned.py:59: UserWarning: To copy construct from a tensor, it is recommended to use sourceTensor.clone().detach() or sourceTensor.clone().detach().requires_grad_(True), rather than torch.tensor(sourceTensor).\n",
      "  waveforms = [torch.tensor(w, dtype=torch.float32).unsqueeze(0) for w in waveforms]\n",
      "[Epoch 1] Training: 100%|█████████████████████████████████████████████████████████████████████| 437/437 [29:00<00:00,  3.98s/it]\n"
     ]
    },
    {
     "name": "stdout",
     "output_type": "stream",
     "text": [
      "Epoch 1 - Train Loss: 1.5276 | Train Acc: 0.6723\n"
     ]
    },
    {
     "name": "stderr",
     "output_type": "stream",
     "text": [
      "[Epoch 1] Validation: 100%|███████████████████████████████████████████████████████████████████| 112/112 [06:36<00:00,  3.54s/it]\n"
     ]
    },
    {
     "name": "stdout",
     "output_type": "stream",
     "text": [
      "New best threshold saved: 0.6081 (EER: 0.2324)\n",
      "Epoch 1 - Val Loss: 0.4859 | Val Acc: 0.7867 | Val EER: 0.2324\n",
      "Epoch 1 Duration: 2136.60 seconds\n"
     ]
    },
    {
     "name": "stderr",
     "output_type": "stream",
     "text": [
      "[Epoch 2] Training:   0%|                                                                               | 0/437 [00:00<?, ?it/s]/Users/trishasanghal/Documents/MIDS/capstone/Capstone_2025/tssdnet/tssd_env/train_tssdnet_finetuned.py:59: UserWarning: To copy construct from a tensor, it is recommended to use sourceTensor.clone().detach() or sourceTensor.clone().detach().requires_grad_(True), rather than torch.tensor(sourceTensor).\n",
      "  waveforms = [torch.tensor(w, dtype=torch.float32).unsqueeze(0) for w in waveforms]\n",
      "[Epoch 2] Training: 100%|█████████████████████████████████████████████████████████████████████| 437/437 [29:05<00:00,  3.99s/it]\n"
     ]
    },
    {
     "name": "stdout",
     "output_type": "stream",
     "text": [
      "Epoch 2 - Train Loss: 0.4295 | Train Acc: 0.8073\n"
     ]
    },
    {
     "name": "stderr",
     "output_type": "stream",
     "text": [
      "[Epoch 2] Validation: 100%|███████████████████████████████████████████████████████████████████| 112/112 [06:37<00:00,  3.55s/it]\n",
      "/Users/trishasanghal/Documents/MIDS/capstone/Capstone_2025/tssdnet/tssd_env/train_tssdnet_finetuned.py:59: UserWarning: To copy construct from a tensor, it is recommended to use sourceTensor.clone().detach() or sourceTensor.clone().detach().requires_grad_(True), rather than torch.tensor(sourceTensor).\n",
      "  waveforms = [torch.tensor(w, dtype=torch.float32).unsqueeze(0) for w in waveforms]\n"
     ]
    },
    {
     "name": "stdout",
     "output_type": "stream",
     "text": [
      "New best threshold saved: 0.5928 (EER: 0.1709)\n",
      "Epoch 2 - Val Loss: 0.3875 | Val Acc: 0.8291 | Val EER: 0.1709\n",
      "Epoch 2 Duration: 2142.51 seconds\n",
      "Finalizing SWA model with batch norm stats...\n"
     ]
    }
   ],
   "source": [
    "# Fine-tune the baseline TSSDNet model (test run):\n",
    "%run train_tssdnet_finetuned.py"
   ]
  },
  {
   "cell_type": "code",
   "execution_count": 1,
   "id": "0a876c04-ac5d-40e3-9a9c-935ef01527c4",
   "metadata": {},
   "outputs": [
    {
     "name": "stdout",
     "output_type": "stream",
     "text": [
      "Loaded model from saved_checkpoints/epoch_2_EER_0.1709.pth\n"
     ]
    },
    {
     "name": "stderr",
     "output_type": "stream",
     "text": [
      "Processing Audio Files:   0%|                                                                            | 0/56 [00:00<?, ?it/s]/Users/trishasanghal/Documents/MIDS/capstone/Capstone_2025/tssdnet/tssd_env/test_tssdnet_finetuned.py:42: UserWarning: To copy construct from a tensor, it is recommended to use sourceTensor.clone().detach() or sourceTensor.clone().detach().requires_grad_(True), rather than torch.tensor(sourceTensor).\n",
      "  waveforms = [torch.tensor(waveform, dtype=torch.float32) for waveform in waveforms]\n",
      "Processing Audio Files: 100%|███████████████████████████████████████████████████████████████████| 56/56 [03:59<00:00,  4.27s/it]"
     ]
    },
    {
     "name": "stdout",
     "output_type": "stream",
     "text": [
      "Predictions saved to ../finetuned-results/tssd-evaluation-results.csv\n",
      "✅ Merged results saved to ../finetuned-results/final-results-tssd.csv\n"
     ]
    },
    {
     "name": "stderr",
     "output_type": "stream",
     "text": [
      "\n"
     ]
    }
   ],
   "source": [
    "# Run evaluation on finetuned TSSDNet model (test run):\n",
    "%run test_tssdnet_finetuned.py"
   ]
  },
  {
   "cell_type": "code",
   "execution_count": 2,
   "id": "ec92e74a-299e-4155-9559-764189e87483",
   "metadata": {},
   "outputs": [
    {
     "name": "stdout",
     "output_type": "stream",
     "text": [
      "Loaded model from ../finetune-1/epoch_62_EER_0.0540.pth\n"
     ]
    },
    {
     "name": "stderr",
     "output_type": "stream",
     "text": [
      "Processing Audio Files:   0%|                                                                                          | 0/56 [00:00<?, ?it/s]/Users/trishasanghal/Documents/MIDS/capstone/Capstone_2025/tssdnet/tssd_env/test_tssdnet_finetuned.py:42: UserWarning: To copy construct from a tensor, it is recommended to use sourceTensor.clone().detach() or sourceTensor.clone().detach().requires_grad_(True), rather than torch.tensor(sourceTensor).\n",
      "  waveforms = [torch.tensor(waveform, dtype=torch.float32) for waveform in waveforms]\n",
      "Processing Audio Files: 100%|█████████████████████████████████████████████████████████████████████████████████| 56/56 [03:53<00:00,  4.17s/it]"
     ]
    },
    {
     "name": "stdout",
     "output_type": "stream",
     "text": [
      "Predictions saved to ../finetune-1/tssd-evaluation-results.csv\n",
      "✅ Merged results saved to ../finetune-1/final-results-tssd.csv\n"
     ]
    },
    {
     "name": "stderr",
     "output_type": "stream",
     "text": [
      "\n"
     ]
    }
   ],
   "source": [
    "# Run evaluation on finetune-1 TSSDNet model:\n",
    "%run test_tssdnet_finetuned.py"
   ]
  },
  {
   "cell_type": "code",
   "execution_count": 2,
   "id": "32968c35-dc1a-4bdb-b313-70523a6d29be",
   "metadata": {},
   "outputs": [
    {
     "name": "stdout",
     "output_type": "stream",
     "text": [
      "Loaded model from ../finetune-2/swa_tssdnet.pth\n"
     ]
    },
    {
     "name": "stderr",
     "output_type": "stream",
     "text": [
      "Processing Audio Files:   0%|                                                                                                           | 0/56 [00:00<?, ?it/s]/Users/trishasanghal/Documents/MIDS/capstone/Capstone_2025/tssdnet/tssd_env/test_tssdnet_finetuned.py:40: UserWarning: To copy construct from a tensor, it is recommended to use sourceTensor.clone().detach() or sourceTensor.clone().detach().requires_grad_(True), rather than torch.tensor(sourceTensor).\n",
      "  waveforms = [torch.tensor(waveform, dtype=torch.float32) for waveform in waveforms]\n",
      "Processing Audio Files: 100%|██████████████████████████████████████████████████████████████████████████████████████████████████| 56/56 [03:53<00:00,  4.18s/it]"
     ]
    },
    {
     "name": "stdout",
     "output_type": "stream",
     "text": [
      "Predictions saved to ../finetune-2/tssd-evaluation-results.csv\n",
      "✅ Merged results saved to ../finetune-2/final-results-tssd.csv\n"
     ]
    },
    {
     "name": "stderr",
     "output_type": "stream",
     "text": [
      "\n"
     ]
    }
   ],
   "source": [
    "# Run evaluation on finetune-2 TSSDNet model:\n",
    "%run test_tssdnet_finetuned.py"
   ]
  },
  {
   "cell_type": "code",
   "execution_count": 1,
   "id": "6ee42c71-68c5-4205-ba5a-a820136163b9",
   "metadata": {},
   "outputs": [
    {
     "name": "stdout",
     "output_type": "stream",
     "text": [
      "res_tssdnet_model model loaded: SSDNet1D(\n",
      "  (conv1): Conv1d(1, 16, kernel_size=(7,), stride=(1,), padding=(3,), bias=False)\n",
      "  (bn1): BatchNorm1d(16, eps=1e-05, momentum=0.1, affine=True, track_running_stats=True)\n",
      "  (RSM1): RSM1D(\n",
      "    (conv1): Conv1d(16, 32, kernel_size=(3,), stride=(1,), padding=(1,), bias=False)\n",
      "    (conv2): Conv1d(32, 32, kernel_size=(3,), stride=(1,), padding=(1,), bias=False)\n",
      "    (conv3): Conv1d(32, 32, kernel_size=(3,), stride=(1,), padding=(1,), bias=False)\n",
      "    (bn1): BatchNorm1d(32, eps=1e-05, momentum=0.1, affine=True, track_running_stats=True)\n",
      "    (bn2): BatchNorm1d(32, eps=1e-05, momentum=0.1, affine=True, track_running_stats=True)\n",
      "    (bn3): BatchNorm1d(32, eps=1e-05, momentum=0.1, affine=True, track_running_stats=True)\n",
      "    (nin): Conv1d(16, 32, kernel_size=(1,), stride=(1,), bias=False)\n",
      "  )\n",
      "  (RSM2): RSM1D(\n",
      "    (conv1): Conv1d(32, 64, kernel_size=(3,), stride=(1,), padding=(1,), bias=False)\n",
      "    (conv2): Conv1d(64, 64, kernel_size=(3,), stride=(1,), padding=(1,), bias=False)\n",
      "    (conv3): Conv1d(64, 64, kernel_size=(3,), stride=(1,), padding=(1,), bias=False)\n",
      "    (bn1): BatchNorm1d(64, eps=1e-05, momentum=0.1, affine=True, track_running_stats=True)\n",
      "    (bn2): BatchNorm1d(64, eps=1e-05, momentum=0.1, affine=True, track_running_stats=True)\n",
      "    (bn3): BatchNorm1d(64, eps=1e-05, momentum=0.1, affine=True, track_running_stats=True)\n",
      "    (nin): Conv1d(32, 64, kernel_size=(1,), stride=(1,), bias=False)\n",
      "  )\n",
      "  (RSM3): RSM1D(\n",
      "    (conv1): Conv1d(64, 128, kernel_size=(3,), stride=(1,), padding=(1,), bias=False)\n",
      "    (conv2): Conv1d(128, 128, kernel_size=(3,), stride=(1,), padding=(1,), bias=False)\n",
      "    (conv3): Conv1d(128, 128, kernel_size=(3,), stride=(1,), padding=(1,), bias=False)\n",
      "    (bn1): BatchNorm1d(128, eps=1e-05, momentum=0.1, affine=True, track_running_stats=True)\n",
      "    (bn2): BatchNorm1d(128, eps=1e-05, momentum=0.1, affine=True, track_running_stats=True)\n",
      "    (bn3): BatchNorm1d(128, eps=1e-05, momentum=0.1, affine=True, track_running_stats=True)\n",
      "    (nin): Conv1d(64, 128, kernel_size=(1,), stride=(1,), bias=False)\n",
      "  )\n",
      "  (RSM4): RSM1D(\n",
      "    (conv1): Conv1d(128, 128, kernel_size=(3,), stride=(1,), padding=(1,), bias=False)\n",
      "    (conv2): Conv1d(128, 128, kernel_size=(3,), stride=(1,), padding=(1,), bias=False)\n",
      "    (conv3): Conv1d(128, 128, kernel_size=(3,), stride=(1,), padding=(1,), bias=False)\n",
      "    (bn1): BatchNorm1d(128, eps=1e-05, momentum=0.1, affine=True, track_running_stats=True)\n",
      "    (bn2): BatchNorm1d(128, eps=1e-05, momentum=0.1, affine=True, track_running_stats=True)\n",
      "    (bn3): BatchNorm1d(128, eps=1e-05, momentum=0.1, affine=True, track_running_stats=True)\n",
      "    (nin): Conv1d(128, 128, kernel_size=(1,), stride=(1,), bias=False)\n",
      "  )\n",
      "  (fc1): Linear(in_features=128, out_features=64, bias=True)\n",
      "  (fc2): Linear(in_features=64, out_features=32, bias=True)\n",
      "  (out): Linear(in_features=32, out_features=2, bias=True)\n",
      ")\n"
     ]
    },
    {
     "name": "stderr",
     "output_type": "stream",
     "text": [
      "Processing Audio Files:   0%|                                        | 0/56 [00:00<?, ?it/s]/Users/trishasanghal/Documents/MIDS/capstone/Capstone_2025/tssdnet/tssd_env/test_tssdnet_baseline.py:47: UserWarning: To copy construct from a tensor, it is recommended to use sourceTensor.clone().detach() or sourceTensor.clone().detach().requires_grad_(True), rather than torch.tensor(sourceTensor).\n",
      "  waveforms = [torch.tensor(waveform, dtype=torch.float32) for waveform in waveforms]\n",
      "Processing Audio Files: 100%|███████████████████████████████| 56/56 [03:49<00:00,  4.09s/it]"
     ]
    },
    {
     "name": "stdout",
     "output_type": "stream",
     "text": [
      "Predictions saved to ../baseline-updated-results/tssd-evaluation-results-standardized.csv\n",
      "✅ Merged results saved to ../baseline-updated-results/final-results-tssd-standardized.csv\n"
     ]
    },
    {
     "name": "stderr",
     "output_type": "stream",
     "text": [
      "\n"
     ]
    }
   ],
   "source": [
    "# Run standardized evaluation on baseline TSSDNet model:\n",
    "%run test_tssdnet_baseline.py"
   ]
  },
  {
   "cell_type": "code",
   "execution_count": 1,
   "id": "455da05f-a5a0-4f83-b914-99c2a400e7cc",
   "metadata": {},
   "outputs": [
    {
     "name": "stdout",
     "output_type": "stream",
     "text": [
      "Loaded model from ../finetune-2/swa_tssdnet.pth\n"
     ]
    },
    {
     "name": "stderr",
     "output_type": "stream",
     "text": [
      "Processing Audio Files:   0%|                                        | 0/56 [00:00<?, ?it/s]/Users/trishasanghal/Documents/MIDS/capstone/Capstone_2025/tssdnet/tssd_env/test_tssdnet_finetuned.py:40: UserWarning: To copy construct from a tensor, it is recommended to use sourceTensor.clone().detach() or sourceTensor.clone().detach().requires_grad_(True), rather than torch.tensor(sourceTensor).\n",
      "  waveforms = [torch.tensor(waveform, dtype=torch.float32) for waveform in waveforms]\n",
      "Processing Audio Files: 100%|███████████████████████████████| 56/56 [03:54<00:00,  4.18s/it]"
     ]
    },
    {
     "name": "stdout",
     "output_type": "stream",
     "text": [
      "Predictions saved to ../finetune-2/tssd-evaluation-results-standardized.csv\n",
      "✅ Merged results saved to ../finetune-2/final-results-tssd-standardized.csv\n"
     ]
    },
    {
     "name": "stderr",
     "output_type": "stream",
     "text": [
      "\n"
     ]
    }
   ],
   "source": [
    "# Run standardized evaluation on finetune-2 TSSDNet model:\n",
    "%run test_tssdnet_finetuned.py"
   ]
  },
  {
   "cell_type": "code",
   "execution_count": null,
   "id": "d5f422ac-fc61-42ca-9aad-de688314ecb1",
   "metadata": {},
   "outputs": [],
   "source": []
  }
 ],
 "metadata": {
  "kernelspec": {
   "display_name": "Python 3 (ipykernel)",
   "language": "python",
   "name": "python3"
  },
  "language_info": {
   "codemirror_mode": {
    "name": "ipython",
    "version": 3
   },
   "file_extension": ".py",
   "mimetype": "text/x-python",
   "name": "python",
   "nbconvert_exporter": "python",
   "pygments_lexer": "ipython3",
   "version": "3.9.6"
  }
 },
 "nbformat": 4,
 "nbformat_minor": 5
}
