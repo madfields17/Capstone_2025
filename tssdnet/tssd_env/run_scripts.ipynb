{
 "cells": [
  {
   "cell_type": "code",
   "execution_count": 4,
   "id": "4ee10df3-bf68-4f94-a440-36942a002326",
   "metadata": {},
   "outputs": [],
   "source": [
    "# !pip install torch torchaudio"
   ]
  },
  {
   "cell_type": "code",
   "execution_count": 7,
   "id": "7c4039f3-6587-40f1-962d-edc59b4f3df0",
   "metadata": {},
   "outputs": [
    {
     "name": "stdout",
     "output_type": "stream",
     "text": [
      "res_tssdnet_model model loaded: SSDNet1D(\n",
      "  (conv1): Conv1d(1, 16, kernel_size=(7,), stride=(1,), padding=(3,), bias=False)\n",
      "  (bn1): BatchNorm1d(16, eps=1e-05, momentum=0.1, affine=True, track_running_stats=True)\n",
      "  (RSM1): RSM1D(\n",
      "    (conv1): Conv1d(16, 32, kernel_size=(3,), stride=(1,), padding=(1,), bias=False)\n",
      "    (conv2): Conv1d(32, 32, kernel_size=(3,), stride=(1,), padding=(1,), bias=False)\n",
      "    (conv3): Conv1d(32, 32, kernel_size=(3,), stride=(1,), padding=(1,), bias=False)\n",
      "    (bn1): BatchNorm1d(32, eps=1e-05, momentum=0.1, affine=True, track_running_stats=True)\n",
      "    (bn2): BatchNorm1d(32, eps=1e-05, momentum=0.1, affine=True, track_running_stats=True)\n",
      "    (bn3): BatchNorm1d(32, eps=1e-05, momentum=0.1, affine=True, track_running_stats=True)\n",
      "    (nin): Conv1d(16, 32, kernel_size=(1,), stride=(1,), bias=False)\n",
      "  )\n",
      "  (RSM2): RSM1D(\n",
      "    (conv1): Conv1d(32, 64, kernel_size=(3,), stride=(1,), padding=(1,), bias=False)\n",
      "    (conv2): Conv1d(64, 64, kernel_size=(3,), stride=(1,), padding=(1,), bias=False)\n",
      "    (conv3): Conv1d(64, 64, kernel_size=(3,), stride=(1,), padding=(1,), bias=False)\n",
      "    (bn1): BatchNorm1d(64, eps=1e-05, momentum=0.1, affine=True, track_running_stats=True)\n",
      "    (bn2): BatchNorm1d(64, eps=1e-05, momentum=0.1, affine=True, track_running_stats=True)\n",
      "    (bn3): BatchNorm1d(64, eps=1e-05, momentum=0.1, affine=True, track_running_stats=True)\n",
      "    (nin): Conv1d(32, 64, kernel_size=(1,), stride=(1,), bias=False)\n",
      "  )\n",
      "  (RSM3): RSM1D(\n",
      "    (conv1): Conv1d(64, 128, kernel_size=(3,), stride=(1,), padding=(1,), bias=False)\n",
      "    (conv2): Conv1d(128, 128, kernel_size=(3,), stride=(1,), padding=(1,), bias=False)\n",
      "    (conv3): Conv1d(128, 128, kernel_size=(3,), stride=(1,), padding=(1,), bias=False)\n",
      "    (bn1): BatchNorm1d(128, eps=1e-05, momentum=0.1, affine=True, track_running_stats=True)\n",
      "    (bn2): BatchNorm1d(128, eps=1e-05, momentum=0.1, affine=True, track_running_stats=True)\n",
      "    (bn3): BatchNorm1d(128, eps=1e-05, momentum=0.1, affine=True, track_running_stats=True)\n",
      "    (nin): Conv1d(64, 128, kernel_size=(1,), stride=(1,), bias=False)\n",
      "  )\n",
      "  (RSM4): RSM1D(\n",
      "    (conv1): Conv1d(128, 128, kernel_size=(3,), stride=(1,), padding=(1,), bias=False)\n",
      "    (conv2): Conv1d(128, 128, kernel_size=(3,), stride=(1,), padding=(1,), bias=False)\n",
      "    (conv3): Conv1d(128, 128, kernel_size=(3,), stride=(1,), padding=(1,), bias=False)\n",
      "    (bn1): BatchNorm1d(128, eps=1e-05, momentum=0.1, affine=True, track_running_stats=True)\n",
      "    (bn2): BatchNorm1d(128, eps=1e-05, momentum=0.1, affine=True, track_running_stats=True)\n",
      "    (bn3): BatchNorm1d(128, eps=1e-05, momentum=0.1, affine=True, track_running_stats=True)\n",
      "    (nin): Conv1d(128, 128, kernel_size=(1,), stride=(1,), bias=False)\n",
      "  )\n",
      "  (fc1): Linear(in_features=128, out_features=64, bias=True)\n",
      "  (fc2): Linear(in_features=64, out_features=32, bias=True)\n",
      "  (out): Linear(in_features=32, out_features=2, bias=True)\n",
      ")\n"
     ]
    },
    {
     "name": "stderr",
     "output_type": "stream",
     "text": [
      "Processing Audio Files:   0%|                                        | 0/56 [00:00<?, ?it/s]/Users/trishasanghal/Documents/MIDS/capstone/Capstone_2025/tssdnet/tssd_env/test_tssdnet_baseline.py:47: UserWarning: To copy construct from a tensor, it is recommended to use sourceTensor.clone().detach() or sourceTensor.clone().detach().requires_grad_(True), rather than torch.tensor(sourceTensor).\n",
      "  waveforms = [torch.tensor(waveform, dtype=torch.float32) for waveform in waveforms]\n",
      "Processing Audio Files: 100%|███████████████████████████████| 56/56 [03:50<00:00,  4.12s/it]"
     ]
    },
    {
     "name": "stdout",
     "output_type": "stream",
     "text": [
      "Predictions saved to ../baseline-model/tssd-evaluation-results.csv\n",
      "✅ Merged results saved to ../baseline-model/final-results-tssd.csv\n"
     ]
    },
    {
     "name": "stderr",
     "output_type": "stream",
     "text": [
      "\n"
     ]
    }
   ],
   "source": [
    "# Run evaluation on baseline TSSDNet model:\n",
    "%run test_tssdnet_baseline.py"
   ]
  },
  {
   "cell_type": "code",
   "execution_count": 3,
   "id": "9b38b59e-9c18-4d4f-a2c4-b722c22e851c",
   "metadata": {},
   "outputs": [],
   "source": [
    "# Fine-tune the baseline TSSDNet model (test run):\n",
    "# %run train_tssdnet_finetuned.py"
   ]
  },
  {
   "cell_type": "code",
   "execution_count": 4,
   "id": "0a876c04-ac5d-40e3-9a9c-935ef01527c4",
   "metadata": {},
   "outputs": [],
   "source": [
    "# Run evaluation on finetuned TSSDNet model (test run):\n",
    "# %run test_tssdnet_finetuned.py"
   ]
  },
  {
   "cell_type": "code",
   "execution_count": 2,
   "id": "32968c35-dc1a-4bdb-b313-70523a6d29be",
   "metadata": {},
   "outputs": [
    {
     "name": "stdout",
     "output_type": "stream",
     "text": [
      "Loaded model from ../finetuned-model/swa_tssdnet.pth\n"
     ]
    },
    {
     "name": "stderr",
     "output_type": "stream",
     "text": [
      "Processing Audio Files:   0%|                                        | 0/56 [00:00<?, ?it/s]/Users/trishasanghal/Documents/MIDS/capstone/Capstone_2025/tssdnet/tssd_env/test_tssdnet_finetuned.py:40: UserWarning: To copy construct from a tensor, it is recommended to use sourceTensor.clone().detach() or sourceTensor.clone().detach().requires_grad_(True), rather than torch.tensor(sourceTensor).\n",
      "  waveforms = [torch.tensor(waveform, dtype=torch.float32) for waveform in waveforms]\n",
      "Processing Audio Files: 100%|███████████████████████████████| 56/56 [03:52<00:00,  4.15s/it]"
     ]
    },
    {
     "name": "stdout",
     "output_type": "stream",
     "text": [
      "Predictions saved to ../finetuned-model/tssd-evaluation-results.csv\n",
      "✅ Merged results saved to ../finetuned-model/final-results-tssd.csv\n"
     ]
    },
    {
     "name": "stderr",
     "output_type": "stream",
     "text": [
      "\n"
     ]
    }
   ],
   "source": [
    "# Run evaluation on finetuned TSSDNet model:\n",
    "%run test_tssdnet_finetuned.py"
   ]
  },
  {
   "cell_type": "code",
   "execution_count": null,
   "id": "d5f422ac-fc61-42ca-9aad-de688314ecb1",
   "metadata": {},
   "outputs": [],
   "source": []
  }
 ],
 "metadata": {
  "kernelspec": {
   "display_name": "Python 3 (ipykernel)",
   "language": "python",
   "name": "python3"
  },
  "language_info": {
   "codemirror_mode": {
    "name": "ipython",
    "version": 3
   },
   "file_extension": ".py",
   "mimetype": "text/x-python",
   "name": "python",
   "nbconvert_exporter": "python",
   "pygments_lexer": "ipython3",
   "version": "3.9.6"
  }
 },
 "nbformat": 4,
 "nbformat_minor": 5
}
