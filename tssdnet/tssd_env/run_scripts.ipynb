{
 "cells": [
  {
   "cell_type": "code",
   "execution_count": 4,
   "id": "4ee10df3-bf68-4f94-a440-36942a002326",
   "metadata": {},
   "outputs": [],
   "source": [
    "# !pip install torch torchaudio"
   ]
  },
  {
   "cell_type": "code",
   "execution_count": 2,
   "id": "7c4039f3-6587-40f1-962d-edc59b4f3df0",
   "metadata": {},
   "outputs": [],
   "source": [
    "# Run evaluation on baseline TSSDNet model:\n",
    "# %run test_tssdnet_baseline.py"
   ]
  },
  {
   "cell_type": "code",
   "execution_count": 3,
   "id": "9b38b59e-9c18-4d4f-a2c4-b722c22e851c",
   "metadata": {},
   "outputs": [],
   "source": [
    "# Fine-tune the baseline TSSDNet model (test run):\n",
    "# %run train_tssdnet_finetuned.py"
   ]
  },
  {
   "cell_type": "code",
   "execution_count": 4,
   "id": "0a876c04-ac5d-40e3-9a9c-935ef01527c4",
   "metadata": {},
   "outputs": [],
   "source": [
    "# Run evaluation on finetuned TSSDNet model (test run):\n",
    "# %run test_tssdnet_finetuned.py"
   ]
  },
  {
   "cell_type": "code",
   "execution_count": 5,
   "id": "32968c35-dc1a-4bdb-b313-70523a6d29be",
   "metadata": {},
   "outputs": [],
   "source": [
    "# Run evaluation on finetuned TSSDNet model:\n",
    "# %run test_tssdnet_finetuned.py"
   ]
  },
  {
   "cell_type": "code",
   "execution_count": null,
   "id": "d5f422ac-fc61-42ca-9aad-de688314ecb1",
   "metadata": {},
   "outputs": [],
   "source": []
  }
 ],
 "metadata": {
  "kernelspec": {
   "display_name": "Python 3 (ipykernel)",
   "language": "python",
   "name": "python3"
  },
  "language_info": {
   "codemirror_mode": {
    "name": "ipython",
    "version": 3
   },
   "file_extension": ".py",
   "mimetype": "text/x-python",
   "name": "python",
   "nbconvert_exporter": "python",
   "pygments_lexer": "ipython3",
   "version": "3.9.6"
  }
 },
 "nbformat": 4,
 "nbformat_minor": 5
}
