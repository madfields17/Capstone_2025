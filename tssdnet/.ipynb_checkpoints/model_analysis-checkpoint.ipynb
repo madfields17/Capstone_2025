{
 "cells": [
  {
   "cell_type": "code",
   "execution_count": 2,
   "metadata": {},
   "outputs": [],
   "source": [
    "import pandas as pd"
   ]
  },
  {
   "cell_type": "code",
   "execution_count": null,
   "metadata": {},
   "outputs": [],
   "source": [
    "THRESHOLD = 0.5"
   ]
  },
  {
   "cell_type": "code",
   "execution_count": 14,
   "metadata": {},
   "outputs": [],
   "source": [
    "def clean_accent_name(accent):\n",
    "    return accent.split(\"(\")[0].strip()"
   ]
  },
  {
   "cell_type": "code",
   "execution_count": 12,
   "metadata": {},
   "outputs": [
    {
     "data": {
      "text/html": [
       "<div>\n",
       "<style scoped>\n",
       "    .dataframe tbody tr th:only-of-type {\n",
       "        vertical-align: middle;\n",
       "    }\n",
       "\n",
       "    .dataframe tbody tr th {\n",
       "        vertical-align: top;\n",
       "    }\n",
       "\n",
       "    .dataframe thead th {\n",
       "        text-align: right;\n",
       "    }\n",
       "</style>\n",
       "<table border=\"1\" class=\"dataframe\">\n",
       "  <thead>\n",
       "    <tr style=\"text-align: right;\">\n",
       "      <th></th>\n",
       "      <th>file_name</th>\n",
       "      <th>speaker</th>\n",
       "      <th>age</th>\n",
       "      <th>gender</th>\n",
       "      <th>accent</th>\n",
       "      <th>native_language</th>\n",
       "      <th>country</th>\n",
       "      <th>region</th>\n",
       "      <th>source</th>\n",
       "      <th>wav_filename</th>\n",
       "      <th>wav_path</th>\n",
       "      <th>prediction_score</th>\n",
       "    </tr>\n",
       "  </thead>\n",
       "  <tbody>\n",
       "    <tr>\n",
       "      <th>0</th>\n",
       "      <td>common_voice_en_12088.wav</td>\n",
       "      <td>907c23b7fa9bfd336418f697c03eca72009141f994024d...</td>\n",
       "      <td>twenties</td>\n",
       "      <td>female</td>\n",
       "      <td>india and south asia (india, pakistan, sri lanka)</td>\n",
       "      <td>NaN</td>\n",
       "      <td>NaN</td>\n",
       "      <td>south asia (india, pakistan, bangladesh, sri l...</td>\n",
       "      <td>common_voice</td>\n",
       "      <td>common_voice_en_12088.wav</td>\n",
       "      <td>../../datasets/evaluation-data/evaluation-set/...</td>\n",
       "      <td>0.169132</td>\n",
       "    </tr>\n",
       "    <tr>\n",
       "      <th>1</th>\n",
       "      <td>common_voice_en_17271107.wav</td>\n",
       "      <td>185a19520056bd31c0b7613af5d9eb45e5b9eb8061127f...</td>\n",
       "      <td>twenties</td>\n",
       "      <td>female</td>\n",
       "      <td>india and south asia (india, pakistan, sri lanka)</td>\n",
       "      <td>NaN</td>\n",
       "      <td>NaN</td>\n",
       "      <td>south asia (india, pakistan, bangladesh, sri l...</td>\n",
       "      <td>common_voice</td>\n",
       "      <td>common_voice_en_17271107.wav</td>\n",
       "      <td>../../datasets/evaluation-data/evaluation-set/...</td>\n",
       "      <td>0.191176</td>\n",
       "    </tr>\n",
       "  </tbody>\n",
       "</table>\n",
       "</div>"
      ],
      "text/plain": [
       "                      file_name  \\\n",
       "0     common_voice_en_12088.wav   \n",
       "1  common_voice_en_17271107.wav   \n",
       "\n",
       "                                             speaker       age  gender  \\\n",
       "0  907c23b7fa9bfd336418f697c03eca72009141f994024d...  twenties  female   \n",
       "1  185a19520056bd31c0b7613af5d9eb45e5b9eb8061127f...  twenties  female   \n",
       "\n",
       "                                              accent native_language country  \\\n",
       "0  india and south asia (india, pakistan, sri lanka)             NaN     NaN   \n",
       "1  india and south asia (india, pakistan, sri lanka)             NaN     NaN   \n",
       "\n",
       "                                              region        source  \\\n",
       "0  south asia (india, pakistan, bangladesh, sri l...  common_voice   \n",
       "1  south asia (india, pakistan, bangladesh, sri l...  common_voice   \n",
       "\n",
       "                   wav_filename  \\\n",
       "0     common_voice_en_12088.wav   \n",
       "1  common_voice_en_17271107.wav   \n",
       "\n",
       "                                            wav_path  prediction_score  \n",
       "0  ../../datasets/evaluation-data/evaluation-set/...          0.169132  \n",
       "1  ../../datasets/evaluation-data/evaluation-set/...          0.191176  "
      ]
     },
     "execution_count": 12,
     "metadata": {},
     "output_type": "execute_result"
    }
   ],
   "source": [
    "tssd_results = pd.read_csv(\"baseline-updated-results/final-results-tssd.csv\")\n",
    "tssd_results[\"region\"] = tssd_results[\"region\"].apply(clean_accent_name)\n",
    "tssd_results.head(2)"
   ]
  },
  {
   "cell_type": "code",
   "execution_count": null,
   "metadata": {},
   "outputs": [],
   "source": []
  },
  {
   "cell_type": "code",
   "execution_count": null,
   "metadata": {},
   "outputs": [],
   "source": []
  }
 ],
 "metadata": {
  "kernelspec": {
   "display_name": "Python 3 (ipykernel)",
   "language": "python",
   "name": "python3"
  },
  "language_info": {
   "codemirror_mode": {
    "name": "ipython",
    "version": 3
   },
   "file_extension": ".py",
   "mimetype": "text/x-python",
   "name": "python",
   "nbconvert_exporter": "python",
   "pygments_lexer": "ipython3",
   "version": "3.9.6"
  }
 },
 "nbformat": 4,
 "nbformat_minor": 4
}
