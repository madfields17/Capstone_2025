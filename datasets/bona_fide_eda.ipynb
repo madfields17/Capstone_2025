{
  "nbformat": 4,
  "nbformat_minor": 0,
  "metadata": {
    "colab": {
      "provenance": [],
      "machine_shape": "hm",
      "gpuType": "T4"
    },
    "kernelspec": {
      "name": "python3",
      "display_name": "Python 3"
    },
    "language_info": {
      "name": "python"
    },
    "accelerator": "GPU"
  },
  "cells": [
    {
      "cell_type": "code",
      "execution_count": 1,
      "metadata": {
        "id": "ceOBTa4XdJQu"
      },
      "outputs": [],
      "source": [
        "# !pip install datasets"
      ]
    },
    {
      "cell_type": "markdown",
      "source": [
        "## Contents\n",
        "- Fair Speech Dataset Meta\n",
        "- Common Accent Dataset\n",
        "- Speech Accent Archive\n",
        "- **GLOBE**"
      ],
      "metadata": {
        "id": "BwTj17Ic-Dwo"
      }
    },
    {
      "cell_type": "markdown",
      "source": [
        "# Fair Speech Dataset (Meta)\n",
        "\n",
        "*   Source: https://ai.meta.com/datasets/speech-fairness-dataset/\n",
        "*   Shruti evaluated separately!\n",
        "\n"
      ],
      "metadata": {
        "id": "nzAkU2A38p5b"
      }
    },
    {
      "cell_type": "markdown",
      "source": [
        "# Common Accent Dataset\n",
        "\n",
        "*   Source: https://huggingface.co/datasets/DTU54DL/common-accent\n",
        "*   Is unbalanced and doesn't include gender labels.\n",
        "\n"
      ],
      "metadata": {
        "id": "a2Wn0KEZeTrA"
      }
    },
    {
      "cell_type": "code",
      "source": [
        "from datasets import load_dataset"
      ],
      "metadata": {
        "id": "9-phR-sIdQAO"
      },
      "execution_count": null,
      "outputs": []
    },
    {
      "cell_type": "code",
      "source": [
        "common_accent = load_dataset(\"DTU54DL/common-accent\")\n",
        "common_accent_train = common_accent[\"train\"].to_pandas()\n",
        "common_accent_test = common_accent[\"test\"].to_pandas()"
      ],
      "metadata": {
        "id": "IF0eFdaIdSAK"
      },
      "execution_count": null,
      "outputs": []
    },
    {
      "cell_type": "code",
      "source": [
        "accent_counts = common_accent_train['accent'].value_counts()\n",
        "print(accent_counts)"
      ],
      "metadata": {
        "colab": {
          "base_uri": "https://localhost:8080/"
        },
        "id": "1VPiQBgjdoHG",
        "outputId": "e0106758-cb1c-4c20-fd24-7b7a0dbc8264"
      },
      "execution_count": null,
      "outputs": [
        {
          "output_type": "stream",
          "name": "stdout",
          "text": [
            "accent\n",
            "India and South Asia (India, Pakistan, Sri Lanka)                                                                                                      5731\n",
            "German English,Non native speaker                                                                                                                      3024\n",
            "Southern African (South Africa, Zimbabwe, Namibia)                                                                                                      309\n",
            "Filipino                                                                                                                                                295\n",
            "Singaporean English                                                                                                                                     206\n",
            "Hong Kong English                                                                                                                                       203\n",
            "Malaysian English                                                                                                                                        77\n",
            "West Indies and Bermuda (Bahamas, Bermuda, Jamaica, Trinidad)                                                                                            23\n",
            "East African Khoja                                                                                                                                        8\n",
            "Eastern European English                                                                                                                                  8\n",
            "Dutch English                                                                                                                                             7\n",
            "Thai                                                                                                                                                      7\n",
            "Dutch                                                                                                                                                     7\n",
            "European,German,Foreign,Non-native                                                                                                                        7\n",
            "Austrian                                                                                                                                                  7\n",
            "Spanish,Foreign,Non-native                                                                                                                                6\n",
            "Bangladeshi English                                                                                                                                       6\n",
            "Slavic,polish                                                                                                                                             5\n",
            "England English,India and South Asia (India, Pakistan, Sri Lanka),Northern English                                                                        4\n",
            "German,south-west German,South German accent,Alemannic German Accent                                                                                      3\n",
            "Slavic                                                                                                                                                    3\n",
            "Malaysian English,England English                                                                                                                         3\n",
            "Italian                                                                                                                                                   3\n",
            "Slavic,East European,polish                                                                                                                               3\n",
            "India and South Asia (India, Pakistan, Sri Lanka),try to maintain originality                                                                             3\n",
            "Malaysian English,Javanese,Indonesian English                                                                                                             3\n",
            "Ukrainian                                                                                                                                                 2\n",
            "Northern Irish,Norwegian,yorkshire                                                                                                                        2\n",
            "Russian                                                                                                                                                   2\n",
            "polish                                                                                                                                                    2\n",
            "West Indies and Bermuda (Bahamas, Bermuda, Jamaica, Trinidad),England English,Scottish English,United States English                                      2\n",
            "minor french accent                                                                                                                                       2\n",
            "Filipino,United States English                                                                                                                            1\n",
            "India and South Asia (India, Pakistan, Sri Lanka),International Indian Accent                                                                             1\n",
            "Swedish accent                                                                                                                                            1\n",
            "Latin English                                                                                                                                             1\n",
            "India and South Asia (India, Pakistan, Sri Lanka),Canadian English                                                                                        1\n",
            "Eastern European,Romanian                                                                                                                                 1\n",
            "South African English                                                                                                                                     1\n",
            "French                                                                                                                                                    1\n",
            "Non-native,German Accent                                                                                                                                  1\n",
            "2nd Language                                                                                                                                              1\n",
            "European,eastern europe,pronounced r's,heavy consonants                                                                                                   1\n",
            "Colombian Accent                                                                                                                                          1\n",
            "fluent,ESL,European                                                                                                                                       1\n",
            "England English,south German / Swiss accent                                                                                                               1\n",
            "Singaporean English,England English                                                                                                                       1\n",
            "West Indies and Bermuda (Bahamas, Bermuda, Jamaica, Trinidad),Patois                                                                                      1\n",
            "United States English,Australian English,England English,New Zealand English,India and South Asia (India, Pakistan, Sri Lanka),international,Slovak       1\n",
            "polish accent                                                                                                                                             1\n",
            "Nigerian English                                                                                                                                          1\n",
            "United States English,England English,India and South Asia (India, Pakistan, Sri Lanka)                                                                   1\n",
            "A variety of Texan English with some German influence that has undergone the cot-caught merger                                                            1\n",
            "Singaporean English,Malaysian English                                                                                                                     1\n",
            "India and South Asia (India, Pakistan, Sri Lanka),bangladesh                                                                                              1\n",
            "Kenyan                                                                                                                                                    1\n",
            "German                                                                                                                                                    1\n",
            "With heavy Cantonese accent                                                                                                                               1\n",
            "West African                                                                                                                                              1\n",
            "Name: count, dtype: int64\n"
          ]
        }
      ]
    },
    {
      "cell_type": "markdown",
      "source": [
        "# Speech Accent Archive\n",
        "\n",
        "\n",
        "*   Source: https://www.kaggle.com/datasets/rtatman/speech-accent-archive/\n",
        "*   Has a highly diverse set of voices, but the counts are too small.\n",
        "\n"
      ],
      "metadata": {
        "id": "aUTDGtjpfa-x"
      }
    },
    {
      "cell_type": "code",
      "source": [
        "# !pip install kaggle"
      ],
      "metadata": {
        "id": "WWe9PN3D5PGA"
      },
      "execution_count": null,
      "outputs": []
    },
    {
      "cell_type": "code",
      "source": [
        "from google.colab import files\n",
        "\n",
        "import pandas as pd\n",
        "import os\n",
        "import zipfile"
      ],
      "metadata": {
        "id": "V8uX8pYFdpYV"
      },
      "execution_count": null,
      "outputs": []
    },
    {
      "cell_type": "code",
      "source": [
        "files.upload() # Upload the kaggle.json file containing your API key.\n",
        "os.makedirs('/root/.kaggle', exist_ok=True)\n",
        "!mv kaggle.json /root/.kaggle/\n",
        "!chmod 600 /root/.kaggle/kaggle.json"
      ],
      "metadata": {
        "collapsed": true,
        "id": "2dOek7mP44Cj"
      },
      "execution_count": null,
      "outputs": []
    },
    {
      "cell_type": "code",
      "source": [
        "!kaggle datasets download -d rtatman/speech-accent-archive"
      ],
      "metadata": {
        "colab": {
          "base_uri": "https://localhost:8080/"
        },
        "id": "FUPy-YyY5RiV",
        "outputId": "b8471682-ec54-47bf-bf27-8316007317b6"
      },
      "execution_count": null,
      "outputs": [
        {
          "output_type": "stream",
          "name": "stdout",
          "text": [
            "Warning: Looks like you're using an outdated API Version, please consider updating (server 1.7.4 / client 1.6.17)\n",
            "Dataset URL: https://www.kaggle.com/datasets/rtatman/speech-accent-archive\n",
            "License(s): CC-BY-NC-SA-4.0\n",
            "Downloading speech-accent-archive.zip to /content\n",
            " 99% 855M/865M [00:09<00:00, 94.8MB/s]\n",
            "100% 865M/865M [00:09<00:00, 91.9MB/s]\n"
          ]
        }
      ]
    },
    {
      "cell_type": "code",
      "source": [
        "with zipfile.ZipFile('speech-accent-archive.zip', 'r') as zip_ref:\n",
        "    zip_ref.extractall('speech-accent-archive')"
      ],
      "metadata": {
        "id": "nSnJnr4j5rcU"
      },
      "execution_count": null,
      "outputs": []
    },
    {
      "cell_type": "code",
      "source": [
        "extracted_files = os.listdir('speech-accent-archive')\n",
        "print(extracted_files)"
      ],
      "metadata": {
        "colab": {
          "base_uri": "https://localhost:8080/"
        },
        "id": "IpM3iDly6DKG",
        "outputId": "42afdb7c-8057-451d-b078-afb79a1c63cd"
      },
      "execution_count": null,
      "outputs": [
        {
          "output_type": "stream",
          "name": "stdout",
          "text": [
            "['reading-passage.txt', 'recordings', 'speakers_all.csv']\n"
          ]
        }
      ]
    },
    {
      "cell_type": "code",
      "source": [
        "speech_accent_archive = pd.read_csv('speech-accent-archive/speakers_all.csv')\n",
        "speech_accent_archive = speech_accent_archive[speech_accent_archive['file_missing?'] == False]\n",
        "speech_accent_archive = speech_accent_archive.drop(columns=['age_onset', 'file_missing?', 'filename', 'speakerid', 'Unnamed: 9', 'Unnamed: 10', 'Unnamed: 11'])\n",
        "speech_accent_archive.head()"
      ],
      "metadata": {
        "colab": {
          "base_uri": "https://localhost:8080/",
          "height": 206
        },
        "id": "lIeZkR5q550B",
        "outputId": "aefb7c20-bbae-484f-d8cd-c3bb7ad752be"
      },
      "execution_count": null,
      "outputs": [
        {
          "output_type": "execute_result",
          "data": {
            "text/plain": [
              "     age                         birthplace native_language     sex  \\\n",
              "32  27.0             virginia, south africa       afrikaans  female   \n",
              "33  40.0             pretoria, south africa       afrikaans    male   \n",
              "34  43.0  pretoria, transvaal, south africa       afrikaans    male   \n",
              "35  26.0             pretoria, south africa       afrikaans    male   \n",
              "36  19.0            cape town, south africa       afrikaans    male   \n",
              "\n",
              "         country  \n",
              "32  south africa  \n",
              "33  south africa  \n",
              "34  south africa  \n",
              "35  south africa  \n",
              "36  south africa  "
            ],
            "text/html": [
              "\n",
              "  <div id=\"df-60e9d9b1-ca4c-4e90-ae04-c7a90aa51239\" class=\"colab-df-container\">\n",
              "    <div>\n",
              "<style scoped>\n",
              "    .dataframe tbody tr th:only-of-type {\n",
              "        vertical-align: middle;\n",
              "    }\n",
              "\n",
              "    .dataframe tbody tr th {\n",
              "        vertical-align: top;\n",
              "    }\n",
              "\n",
              "    .dataframe thead th {\n",
              "        text-align: right;\n",
              "    }\n",
              "</style>\n",
              "<table border=\"1\" class=\"dataframe\">\n",
              "  <thead>\n",
              "    <tr style=\"text-align: right;\">\n",
              "      <th></th>\n",
              "      <th>age</th>\n",
              "      <th>birthplace</th>\n",
              "      <th>native_language</th>\n",
              "      <th>sex</th>\n",
              "      <th>country</th>\n",
              "    </tr>\n",
              "  </thead>\n",
              "  <tbody>\n",
              "    <tr>\n",
              "      <th>32</th>\n",
              "      <td>27.0</td>\n",
              "      <td>virginia, south africa</td>\n",
              "      <td>afrikaans</td>\n",
              "      <td>female</td>\n",
              "      <td>south africa</td>\n",
              "    </tr>\n",
              "    <tr>\n",
              "      <th>33</th>\n",
              "      <td>40.0</td>\n",
              "      <td>pretoria, south africa</td>\n",
              "      <td>afrikaans</td>\n",
              "      <td>male</td>\n",
              "      <td>south africa</td>\n",
              "    </tr>\n",
              "    <tr>\n",
              "      <th>34</th>\n",
              "      <td>43.0</td>\n",
              "      <td>pretoria, transvaal, south africa</td>\n",
              "      <td>afrikaans</td>\n",
              "      <td>male</td>\n",
              "      <td>south africa</td>\n",
              "    </tr>\n",
              "    <tr>\n",
              "      <th>35</th>\n",
              "      <td>26.0</td>\n",
              "      <td>pretoria, south africa</td>\n",
              "      <td>afrikaans</td>\n",
              "      <td>male</td>\n",
              "      <td>south africa</td>\n",
              "    </tr>\n",
              "    <tr>\n",
              "      <th>36</th>\n",
              "      <td>19.0</td>\n",
              "      <td>cape town, south africa</td>\n",
              "      <td>afrikaans</td>\n",
              "      <td>male</td>\n",
              "      <td>south africa</td>\n",
              "    </tr>\n",
              "  </tbody>\n",
              "</table>\n",
              "</div>\n",
              "    <div class=\"colab-df-buttons\">\n",
              "\n",
              "  <div class=\"colab-df-container\">\n",
              "    <button class=\"colab-df-convert\" onclick=\"convertToInteractive('df-60e9d9b1-ca4c-4e90-ae04-c7a90aa51239')\"\n",
              "            title=\"Convert this dataframe to an interactive table.\"\n",
              "            style=\"display:none;\">\n",
              "\n",
              "  <svg xmlns=\"http://www.w3.org/2000/svg\" height=\"24px\" viewBox=\"0 -960 960 960\">\n",
              "    <path d=\"M120-120v-720h720v720H120Zm60-500h600v-160H180v160Zm220 220h160v-160H400v160Zm0 220h160v-160H400v160ZM180-400h160v-160H180v160Zm440 0h160v-160H620v160ZM180-180h160v-160H180v160Zm440 0h160v-160H620v160Z\"/>\n",
              "  </svg>\n",
              "    </button>\n",
              "\n",
              "  <style>\n",
              "    .colab-df-container {\n",
              "      display:flex;\n",
              "      gap: 12px;\n",
              "    }\n",
              "\n",
              "    .colab-df-convert {\n",
              "      background-color: #E8F0FE;\n",
              "      border: none;\n",
              "      border-radius: 50%;\n",
              "      cursor: pointer;\n",
              "      display: none;\n",
              "      fill: #1967D2;\n",
              "      height: 32px;\n",
              "      padding: 0 0 0 0;\n",
              "      width: 32px;\n",
              "    }\n",
              "\n",
              "    .colab-df-convert:hover {\n",
              "      background-color: #E2EBFA;\n",
              "      box-shadow: 0px 1px 2px rgba(60, 64, 67, 0.3), 0px 1px 3px 1px rgba(60, 64, 67, 0.15);\n",
              "      fill: #174EA6;\n",
              "    }\n",
              "\n",
              "    .colab-df-buttons div {\n",
              "      margin-bottom: 4px;\n",
              "    }\n",
              "\n",
              "    [theme=dark] .colab-df-convert {\n",
              "      background-color: #3B4455;\n",
              "      fill: #D2E3FC;\n",
              "    }\n",
              "\n",
              "    [theme=dark] .colab-df-convert:hover {\n",
              "      background-color: #434B5C;\n",
              "      box-shadow: 0px 1px 3px 1px rgba(0, 0, 0, 0.15);\n",
              "      filter: drop-shadow(0px 1px 2px rgba(0, 0, 0, 0.3));\n",
              "      fill: #FFFFFF;\n",
              "    }\n",
              "  </style>\n",
              "\n",
              "    <script>\n",
              "      const buttonEl =\n",
              "        document.querySelector('#df-60e9d9b1-ca4c-4e90-ae04-c7a90aa51239 button.colab-df-convert');\n",
              "      buttonEl.style.display =\n",
              "        google.colab.kernel.accessAllowed ? 'block' : 'none';\n",
              "\n",
              "      async function convertToInteractive(key) {\n",
              "        const element = document.querySelector('#df-60e9d9b1-ca4c-4e90-ae04-c7a90aa51239');\n",
              "        const dataTable =\n",
              "          await google.colab.kernel.invokeFunction('convertToInteractive',\n",
              "                                                    [key], {});\n",
              "        if (!dataTable) return;\n",
              "\n",
              "        const docLinkHtml = 'Like what you see? Visit the ' +\n",
              "          '<a target=\"_blank\" href=https://colab.research.google.com/notebooks/data_table.ipynb>data table notebook</a>'\n",
              "          + ' to learn more about interactive tables.';\n",
              "        element.innerHTML = '';\n",
              "        dataTable['output_type'] = 'display_data';\n",
              "        await google.colab.output.renderOutput(dataTable, element);\n",
              "        const docLink = document.createElement('div');\n",
              "        docLink.innerHTML = docLinkHtml;\n",
              "        element.appendChild(docLink);\n",
              "      }\n",
              "    </script>\n",
              "  </div>\n",
              "\n",
              "\n",
              "<div id=\"df-ad024269-fecb-44c4-a008-dbf0e393f536\">\n",
              "  <button class=\"colab-df-quickchart\" onclick=\"quickchart('df-ad024269-fecb-44c4-a008-dbf0e393f536')\"\n",
              "            title=\"Suggest charts\"\n",
              "            style=\"display:none;\">\n",
              "\n",
              "<svg xmlns=\"http://www.w3.org/2000/svg\" height=\"24px\"viewBox=\"0 0 24 24\"\n",
              "     width=\"24px\">\n",
              "    <g>\n",
              "        <path d=\"M19 3H5c-1.1 0-2 .9-2 2v14c0 1.1.9 2 2 2h14c1.1 0 2-.9 2-2V5c0-1.1-.9-2-2-2zM9 17H7v-7h2v7zm4 0h-2V7h2v10zm4 0h-2v-4h2v4z\"/>\n",
              "    </g>\n",
              "</svg>\n",
              "  </button>\n",
              "\n",
              "<style>\n",
              "  .colab-df-quickchart {\n",
              "      --bg-color: #E8F0FE;\n",
              "      --fill-color: #1967D2;\n",
              "      --hover-bg-color: #E2EBFA;\n",
              "      --hover-fill-color: #174EA6;\n",
              "      --disabled-fill-color: #AAA;\n",
              "      --disabled-bg-color: #DDD;\n",
              "  }\n",
              "\n",
              "  [theme=dark] .colab-df-quickchart {\n",
              "      --bg-color: #3B4455;\n",
              "      --fill-color: #D2E3FC;\n",
              "      --hover-bg-color: #434B5C;\n",
              "      --hover-fill-color: #FFFFFF;\n",
              "      --disabled-bg-color: #3B4455;\n",
              "      --disabled-fill-color: #666;\n",
              "  }\n",
              "\n",
              "  .colab-df-quickchart {\n",
              "    background-color: var(--bg-color);\n",
              "    border: none;\n",
              "    border-radius: 50%;\n",
              "    cursor: pointer;\n",
              "    display: none;\n",
              "    fill: var(--fill-color);\n",
              "    height: 32px;\n",
              "    padding: 0;\n",
              "    width: 32px;\n",
              "  }\n",
              "\n",
              "  .colab-df-quickchart:hover {\n",
              "    background-color: var(--hover-bg-color);\n",
              "    box-shadow: 0 1px 2px rgba(60, 64, 67, 0.3), 0 1px 3px 1px rgba(60, 64, 67, 0.15);\n",
              "    fill: var(--button-hover-fill-color);\n",
              "  }\n",
              "\n",
              "  .colab-df-quickchart-complete:disabled,\n",
              "  .colab-df-quickchart-complete:disabled:hover {\n",
              "    background-color: var(--disabled-bg-color);\n",
              "    fill: var(--disabled-fill-color);\n",
              "    box-shadow: none;\n",
              "  }\n",
              "\n",
              "  .colab-df-spinner {\n",
              "    border: 2px solid var(--fill-color);\n",
              "    border-color: transparent;\n",
              "    border-bottom-color: var(--fill-color);\n",
              "    animation:\n",
              "      spin 1s steps(1) infinite;\n",
              "  }\n",
              "\n",
              "  @keyframes spin {\n",
              "    0% {\n",
              "      border-color: transparent;\n",
              "      border-bottom-color: var(--fill-color);\n",
              "      border-left-color: var(--fill-color);\n",
              "    }\n",
              "    20% {\n",
              "      border-color: transparent;\n",
              "      border-left-color: var(--fill-color);\n",
              "      border-top-color: var(--fill-color);\n",
              "    }\n",
              "    30% {\n",
              "      border-color: transparent;\n",
              "      border-left-color: var(--fill-color);\n",
              "      border-top-color: var(--fill-color);\n",
              "      border-right-color: var(--fill-color);\n",
              "    }\n",
              "    40% {\n",
              "      border-color: transparent;\n",
              "      border-right-color: var(--fill-color);\n",
              "      border-top-color: var(--fill-color);\n",
              "    }\n",
              "    60% {\n",
              "      border-color: transparent;\n",
              "      border-right-color: var(--fill-color);\n",
              "    }\n",
              "    80% {\n",
              "      border-color: transparent;\n",
              "      border-right-color: var(--fill-color);\n",
              "      border-bottom-color: var(--fill-color);\n",
              "    }\n",
              "    90% {\n",
              "      border-color: transparent;\n",
              "      border-bottom-color: var(--fill-color);\n",
              "    }\n",
              "  }\n",
              "</style>\n",
              "\n",
              "  <script>\n",
              "    async function quickchart(key) {\n",
              "      const quickchartButtonEl =\n",
              "        document.querySelector('#' + key + ' button');\n",
              "      quickchartButtonEl.disabled = true;  // To prevent multiple clicks.\n",
              "      quickchartButtonEl.classList.add('colab-df-spinner');\n",
              "      try {\n",
              "        const charts = await google.colab.kernel.invokeFunction(\n",
              "            'suggestCharts', [key], {});\n",
              "      } catch (error) {\n",
              "        console.error('Error during call to suggestCharts:', error);\n",
              "      }\n",
              "      quickchartButtonEl.classList.remove('colab-df-spinner');\n",
              "      quickchartButtonEl.classList.add('colab-df-quickchart-complete');\n",
              "    }\n",
              "    (() => {\n",
              "      let quickchartButtonEl =\n",
              "        document.querySelector('#df-ad024269-fecb-44c4-a008-dbf0e393f536 button');\n",
              "      quickchartButtonEl.style.display =\n",
              "        google.colab.kernel.accessAllowed ? 'block' : 'none';\n",
              "    })();\n",
              "  </script>\n",
              "</div>\n",
              "\n",
              "    </div>\n",
              "  </div>\n"
            ],
            "application/vnd.google.colaboratory.intrinsic+json": {
              "type": "dataframe",
              "variable_name": "speech_accent_archive",
              "summary": "{\n  \"name\": \"speech_accent_archive\",\n  \"rows\": 2140,\n  \"fields\": [\n    {\n      \"column\": \"age\",\n      \"properties\": {\n        \"dtype\": \"number\",\n        \"std\": 14.444244745552327,\n        \"min\": 0.0,\n        \"max\": 97.0,\n        \"num_unique_values\": 80,\n        \"samples\": [\n          70.0,\n          27.0,\n          38.0\n        ],\n        \"semantic_type\": \"\",\n        \"description\": \"\"\n      }\n    },\n    {\n      \"column\": \"birthplace\",\n      \"properties\": {\n        \"dtype\": \"string\",\n        \"num_unique_values\": 1270,\n        \"samples\": [\n          \"kocaeli, turkey\",\n          \"lidkoping, sweden\",\n          \"summit, new jersey, usa\"\n        ],\n        \"semantic_type\": \"\",\n        \"description\": \"\"\n      }\n    },\n    {\n      \"column\": \"native_language\",\n      \"properties\": {\n        \"dtype\": \"category\",\n        \"num_unique_values\": 202,\n        \"samples\": [\n          \"kru\",\n          \"bari\",\n          \"chittagonian\"\n        ],\n        \"semantic_type\": \"\",\n        \"description\": \"\"\n      }\n    },\n    {\n      \"column\": \"sex\",\n      \"properties\": {\n        \"dtype\": \"category\",\n        \"num_unique_values\": 3,\n        \"samples\": [\n          \"female\",\n          \"male\",\n          \"famale\"\n        ],\n        \"semantic_type\": \"\",\n        \"description\": \"\"\n      }\n    },\n    {\n      \"column\": \"country\",\n      \"properties\": {\n        \"dtype\": \"category\",\n        \"num_unique_values\": 176,\n        \"samples\": [\n          \"usa\",\n          \"myanmar\",\n          \"burundi\"\n        ],\n        \"semantic_type\": \"\",\n        \"description\": \"\"\n      }\n    }\n  ]\n}"
            }
          },
          "metadata": {},
          "execution_count": 38
        }
      ]
    },
    {
      "cell_type": "code",
      "source": [
        "age_counts = speech_accent_archive['age'].value_counts()\n",
        "age_counts = age_counts[age_counts > 20]\n",
        "print(age_counts.to_string())"
      ],
      "metadata": {
        "colab": {
          "base_uri": "https://localhost:8080/"
        },
        "id": "6w6hxBag7C7W",
        "outputId": "9803f7eb-beb6-454d-f599-cbe47ea77b95"
      },
      "execution_count": null,
      "outputs": [
        {
          "output_type": "stream",
          "name": "stdout",
          "text": [
            "age\n",
            "20.0    131\n",
            "21.0    125\n",
            "19.0    123\n",
            "18.0    105\n",
            "22.0    104\n",
            "25.0    100\n",
            "23.0     98\n",
            "24.0     88\n",
            "26.0     75\n",
            "29.0     67\n",
            "31.0     63\n",
            "27.0     59\n",
            "28.0     56\n",
            "30.0     55\n",
            "32.0     51\n",
            "35.0     40\n",
            "33.0     40\n",
            "39.0     37\n",
            "37.0     36\n",
            "38.0     36\n",
            "52.0     34\n",
            "34.0     34\n",
            "36.0     34\n",
            "43.0     31\n",
            "50.0     30\n",
            "47.0     28\n",
            "46.0     27\n",
            "42.0     27\n",
            "53.0     26\n",
            "40.0     26\n",
            "48.0     24\n",
            "54.0     23\n",
            "44.0     23\n",
            "41.0     22\n",
            "45.0     21\n"
          ]
        }
      ]
    },
    {
      "cell_type": "code",
      "source": [
        "native_language_counts = speech_accent_archive['native_language'].value_counts()\n",
        "native_language_counts = native_language_counts[native_language_counts > 20]\n",
        "print(native_language_counts.to_string())"
      ],
      "metadata": {
        "colab": {
          "base_uri": "https://localhost:8080/"
        },
        "id": "ukbKLiJn6Tgj",
        "outputId": "a74a33cf-4559-4a7b-b2cc-c7641167a501"
      },
      "execution_count": null,
      "outputs": [
        {
          "output_type": "stream",
          "name": "stdout",
          "text": [
            "native_language\n",
            "english       579\n",
            "spanish       162\n",
            "arabic        102\n",
            "mandarin       65\n",
            "french         63\n",
            "korean         52\n",
            "portuguese     48\n",
            "russian        48\n",
            "dutch          47\n",
            "turkish        37\n",
            "german         36\n",
            "polish         34\n",
            "italian        33\n",
            "japanese       27\n",
            "macedonian     26\n",
            "farsi          23\n",
            "cantonese      23\n",
            "vietnamese     22\n"
          ]
        }
      ]
    },
    {
      "cell_type": "code",
      "source": [
        "country_counts = speech_accent_archive['country'].value_counts()\n",
        "country_counts = country_counts[country_counts > 20]\n",
        "print(country_counts.to_string())"
      ],
      "metadata": {
        "colab": {
          "base_uri": "https://localhost:8080/"
        },
        "id": "yy_m2DKK6_D2",
        "outputId": "f1454304-2c43-4cf9-d4fc-04e4b3fb3857"
      },
      "execution_count": null,
      "outputs": [
        {
          "output_type": "stream",
          "name": "stdout",
          "text": [
            "country\n",
            "usa             391\n",
            "china            88\n",
            "uk               67\n",
            "india            58\n",
            "canada           54\n",
            "south korea      51\n",
            "brazil           39\n",
            "belgium          36\n",
            "turkey           35\n",
            "poland           34\n",
            "australia        33\n",
            "saudi arabia     33\n",
            "germany          32\n",
            "italy            32\n",
            "ethiopia         31\n",
            "russia           31\n",
            "france           28\n",
            "macedonia        26\n",
            "japan            26\n",
            "philippines      23\n",
            "spain            22\n",
            "iraq             22\n",
            "nigeria          22\n",
            "colombia         22\n",
            "iran             22\n",
            "vietnam          22\n",
            "pakistan         21\n"
          ]
        }
      ]
    },
    {
      "cell_type": "markdown",
      "source": [
        "# GLOBE\n",
        "\n",
        "*   Compared to commonly used English corpora, such as **LibriTTS** and **VCTK**, GLOBE is unique in its inclusion of utterances from 23,519 speakers and covers 164 accents worldwide, along with detailed metadata for these speakers.\n",
        "*   Compared to its original corpus Common Voice, GLOBE significantly improves the quality of the speech data through rigorous filtering and enhancement processes, while also populating all missing speaker metadata.\n",
        "*   Source: https://huggingface.co/datasets/MushanW/GLOBE_V2\n",
        "\n"
      ],
      "metadata": {
        "id": "wVVmU2_K7qiZ"
      }
    },
    {
      "cell_type": "code",
      "source": [
        "import os\n",
        "from datasets import load_from_disk, load_dataset"
      ],
      "metadata": {
        "id": "GvI1UxBDtJkO"
      },
      "execution_count": null,
      "outputs": []
    },
    {
      "cell_type": "code",
      "source": [
        "# dataset_path = \"globe_v2_data\"\n",
        "\n",
        "# if not os.path.exists(dataset_path):\n",
        "#   dataset = load_dataset(\"MushanW/GLOBE_V2\", cache_dir=dataset_path)\n",
        "\n",
        "# globe_2 = load_from_disk(dataset_path)"
      ],
      "metadata": {
        "id": "PlkMpYIG8Ubb"
      },
      "execution_count": 2,
      "outputs": []
    },
    {
      "cell_type": "code",
      "source": [],
      "metadata": {
        "id": "AqGef7_YsyXU"
      },
      "execution_count": null,
      "outputs": []
    }
  ]
}